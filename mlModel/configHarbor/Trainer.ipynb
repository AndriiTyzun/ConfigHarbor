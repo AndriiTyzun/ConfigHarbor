{
 "cells": [
  {
   "cell_type": "code",
   "id": "initial_id",
   "metadata": {
    "collapsed": true,
    "ExecuteTime": {
     "end_time": "2024-05-21T16:27:17.503568Z",
     "start_time": "2024-05-21T16:27:02.442866Z"
    }
   },
   "source": [
    "import keras\n",
    "import joblib\n",
    "import pandas as pd\n",
    "import numpy as np\n",
    "from sklearn.model_selection import train_test_split\n",
    "from sklearn.preprocessing import StandardScaler\n",
    "from tensorflow.keras.layers import Dense, Dropout, Input\n",
    "from sklearn.linear_model import LinearRegression\n",
    "from sklearn.ensemble import RandomForestClassifier\n",
    "from sklearn.ensemble import RandomForestRegressor\n",
    "from sklearn.compose import ColumnTransformer\n",
    "import json\n",
    "from sklearn.pipeline import Pipeline\n",
    "from sklearn.preprocessing import OneHotEncoder\n",
    "from sklearn.metrics import mean_squared_error\n",
    "from sklearn.preprocessing import LabelEncoder\n",
    "import random as rd\n",
    "from itertools import product"
   ],
   "outputs": [],
   "execution_count": 1
  },
  {
   "metadata": {
    "ExecuteTime": {
     "end_time": "2024-05-21T16:27:46.566074Z",
     "start_time": "2024-05-21T16:27:46.404777Z"
    }
   },
   "cell_type": "code",
   "source": [
    "cpu_path = \"cpu_v1.csv\"\n",
    "mb_path = \"mb_v1.csv\"\n",
    "gpu_path = \"gpu_v1.csv\"\n",
    "ram_path = \"ram_v2.csv\"\n",
    "ps_path = \"ps_v1.csv\"\n",
    "\n",
    "gpu_df = pd.read_csv(gpu_path)\n",
    "cpu_df = pd.read_csv(cpu_path)\n",
    "mb_df = pd.read_csv(mb_path)\n",
    "cpu_df = cpu_df[cpu_df['socket'].isin(mb_df['socket'].unique())]\n",
    "ram_df = pd.read_csv(ram_path)\n",
    "ps_df = pd.read_csv(ps_path)"
   ],
   "id": "f5af86173a13441a",
   "outputs": [],
   "execution_count": 3
  },
  {
   "metadata": {
    "ExecuteTime": {
     "end_time": "2024-05-28T07:17:09.444610Z",
     "start_time": "2024-05-28T07:17:09.432587Z"
    }
   },
   "cell_type": "code",
   "source": [
    "cpu = cpu_df.sample()\n",
    "mb = mb_df[(mb_df['socket'].isin(cpu['socket']))].sample()\n",
    "print(mb)"
   ],
   "id": "c3f5bba8bd019319",
   "outputs": [
    {
     "name": "stdout",
     "output_type": "stream",
     "text": [
      "                             name   price   socket form_factor  max_memory  \\\n",
      "604  Gigabyte Z490 AORUS ELITE AC  329.98  LGA1200         ATX         128   \n",
      "\n",
      "     memory_slots  \n",
      "604             4  \n"
     ]
    }
   ],
   "execution_count": 42
  },
  {
   "metadata": {
    "ExecuteTime": {
     "end_time": "2024-05-21T16:27:55.435853Z",
     "start_time": "2024-05-21T16:27:55.423248Z"
    }
   },
   "cell_type": "code",
   "source": [
    "def calculate_new_values(row):\n",
    "    modules = eval(row['modules'])  \n",
    "    planks = len(modules) \n",
    "    size = modules[0]*modules[1] \n",
    "    row['planks'] = planks  \n",
    "    row['size'] = size \n",
    "    return row"
   ],
   "id": "ff494a55479b66fc",
   "outputs": [],
   "execution_count": 4
  },
  {
   "metadata": {
    "ExecuteTime": {
     "end_time": "2024-05-21T16:28:12.420961Z",
     "start_time": "2024-05-21T16:28:11.803Z"
    }
   },
   "cell_type": "code",
   "source": "temp = ram_df.apply(calculate_new_values, axis=1)",
   "id": "1765b3c7c5091043",
   "outputs": [],
   "execution_count": 5
  },
  {
   "metadata": {},
   "cell_type": "code",
   "source": "temp.to_csv(\"ram_v2.csv\", index=False)",
   "id": "38e1460606151189",
   "outputs": [],
   "execution_count": null
  },
  {
   "metadata": {},
   "cell_type": "code",
   "source": [
    "with open(\"memory.json\", \"r\", encoding='utf-8') as file:\n",
    "    data = json.load(file)\n",
    "    \n",
    "ram_df = pd.DataFrame(data)"
   ],
   "id": "dc6f06aca7697429",
   "outputs": [],
   "execution_count": null
  },
  {
   "metadata": {},
   "cell_type": "code",
   "source": "print(ram_df.head(10))",
   "id": "2cbff9d8580b6de9",
   "outputs": [],
   "execution_count": null
  },
  {
   "metadata": {},
   "cell_type": "code",
   "source": [
    "ram_df = ram_df.drop('color', axis='columns')\n",
    "ram_df = ram_df.dropna()\n",
    "ram_df.to_csv(\"ram_v1.csv\", index=False)"
   ],
   "id": "1d89142057dfd66e",
   "outputs": [],
   "execution_count": null
  },
  {
   "metadata": {},
   "cell_type": "code",
   "source": [
    "with open(\"power-supply.json\", \"r\", encoding='utf-8') as file:\n",
    "    data = json.load(file)\n",
    "    \n",
    "ps_df = pd.DataFrame(data)"
   ],
   "id": "a8fa090e8e54a13",
   "outputs": [],
   "execution_count": null
  },
  {
   "metadata": {},
   "cell_type": "code",
   "source": "print(ps_df.head(10))",
   "id": "b59db97fb0d7bcac",
   "outputs": [],
   "execution_count": null
  },
  {
   "metadata": {},
   "cell_type": "code",
   "source": [
    "ps_df = ps_df.drop('color', axis='columns')\n",
    "ps_df = ps_df.dropna()\n",
    "ps_df.to_csv(\"ps_v1.csv\", index=False)"
   ],
   "id": "93e8b382256e0a42",
   "outputs": [],
   "execution_count": null
  },
  {
   "metadata": {
    "ExecuteTime": {
     "end_time": "2024-05-20T15:41:19.221630Z",
     "start_time": "2024-05-20T15:41:19.195855Z"
    }
   },
   "cell_type": "code",
   "source": "print(mb_df.head(10))",
   "id": "4731592a93958091",
   "outputs": [
    {
     "name": "stdout",
     "output_type": "stream",
     "text": [
      "                              name   price   socket form_factor  max_memory  \\\n",
      "0            MSI MAG B550 TOMAHAWK  169.99      AM4         ATX         128   \n",
      "1                   MSI B550-A PRO  139.99      AM4         ATX         128   \n",
      "2           MSI B550M PRO-VDH WIFI  119.99      AM4   Micro ATX         128   \n",
      "3     Gigabyte Z790 AORUS ELITE AX  239.99  LGA1700         ATX         128   \n",
      "4            Asus Prime B450M-A II   79.99      AM4   Micro ATX         128   \n",
      "5  MSI MAG B660 TOMAHAWK WIFI DDR4  189.99  LGA1700         ATX         128   \n",
      "6     Gigabyte B650 AORUS ELITE AX  202.30      AM5         ATX         128   \n",
      "7     Asus ROG STRIX B550-A GAMING  169.99      AM4         ATX         128   \n",
      "8       MSI MAG Z790 TOMAHAWK WIFI  276.79  LGA1700         ATX         192   \n",
      "9       MSI MAG B650 TOMAHAWK WIFI  219.95      AM5         ATX         128   \n",
      "\n",
      "   memory_slots  \n",
      "0             4  \n",
      "1             4  \n",
      "2             4  \n",
      "3             4  \n",
      "4             4  \n",
      "5             4  \n",
      "6             4  \n",
      "7             4  \n",
      "8             4  \n",
      "9             4  \n"
     ]
    }
   ],
   "execution_count": 145
  },
  {
   "metadata": {
    "ExecuteTime": {
     "end_time": "2024-05-20T15:38:28.962576Z",
     "start_time": "2024-05-20T15:38:28.903502Z"
    }
   },
   "cell_type": "code",
   "source": "print(cpu_df.head(10))",
   "id": "734a3ed25a270816",
   "outputs": [
    {
     "name": "stdout",
     "output_type": "stream",
     "text": [
      "                         cpuName    price  cpuMark  cpuValue  threadMark  \\\n",
      "1   AMD Ryzen Threadripper 3990X  8399.69    81568      9.71        2569   \n",
      "2   AMD Ryzen Threadripper 3970X  2997.99    63835     21.29        2694   \n",
      "4   AMD Ryzen Threadripper 3960X  1682.90    54757     32.54        2678   \n",
      "5              AMD Ryzen 9 5950X   649.74    46195     71.10        3498   \n",
      "6          Intel Core i9-12900KS   779.98    44243     56.72        4317   \n",
      "7          Intel Core i9-12900KF   572.98    41163     71.84        4217   \n",
      "8           Intel Core i9-12900K   599.95    41077     68.47        4209   \n",
      "10             AMD Ryzen 9 5900X   393.03    39457    100.39        3494   \n",
      "11             AMD Ryzen 9 3950X   650.00    39157     60.24        2738   \n",
      "12           Intel Core i9-12900   509.00    38281     75.21        4162   \n",
      "\n",
      "    threadValue    TDP  powerPerf  cores  testDate   socket category  \n",
      "1          0.31  280.0     291.31     64      2020    sTRX4  Desktop  \n",
      "2          0.90  280.0     227.98     32      2019    sTRX4  Desktop  \n",
      "4          1.59  280.0     195.56     24      2019    sTRX4  Desktop  \n",
      "5          5.38  105.0     439.96     16      2020      AM4  Desktop  \n",
      "6          5.53  150.0     294.95      8      2022  LGA1700  Desktop  \n",
      "7          7.36  241.0     170.80      8      2021  LGA1700  Desktop  \n",
      "8          7.02  241.0     170.44      8      2021  LGA1700  Desktop  \n",
      "10         8.89  105.0     375.78     12      2020      AM4  Desktop  \n",
      "11         4.21  105.0     372.92     16      2019      AM4  Desktop  \n",
      "12         8.18   65.0     588.95      8      2022  LGA1700  Desktop  \n"
     ]
    }
   ],
   "execution_count": 143
  },
  {
   "metadata": {
    "ExecuteTime": {
     "end_time": "2024-05-20T15:39:45.844574Z",
     "start_time": "2024-05-20T15:39:45.826072Z"
    }
   },
   "cell_type": "code",
   "source": "print(gpu_df.head(10))",
   "id": "6a5b17b67b196160",
   "outputs": [
    {
     "name": "stdout",
     "output_type": "stream",
     "text": [
      "               gpuName  G3Dmark  G2Dmark    price  gpuValue    TDP  \\\n",
      "0  GeForce RTX 3080 Ti    26887     1031  1199.99     22.41  350.0   \n",
      "1     GeForce RTX 3090    26395      999  1749.99     15.08  350.0   \n",
      "2    Radeon RX 6900 XT    25458     1102  1120.31     22.72  300.0   \n",
      "3     GeForce RTX 3080    24853     1003   999.00     24.88  320.0   \n",
      "4  GeForce RTX 3070 Ti    23367     1003   749.99     31.16  290.0   \n",
      "5    Radeon RX 6800 XT    23364     1078   859.00     27.20  300.0   \n",
      "6     GeForce RTX 3070    22093      969   719.99     30.69  220.0   \n",
      "7  GeForce RTX 2080 Ti    21796      940   998.59     21.83  250.0   \n",
      "8       Radeon RX 6800    20667     1030   758.99     27.23  250.0   \n",
      "9  GeForce RTX 3060 Ti    20206      961   599.99     33.68  200.0   \n",
      "\n",
      "   powerPerformance  testDate category  \n",
      "0             76.82      2021  Desktop  \n",
      "1             75.41      2020  Desktop  \n",
      "2             84.86      2020  Desktop  \n",
      "3             77.66      2020  Desktop  \n",
      "4             80.58      2021  Desktop  \n",
      "5             77.88      2020  Desktop  \n",
      "6            100.42      2020  Desktop  \n",
      "7             87.18      2018  Desktop  \n",
      "8             82.67      2020  Desktop  \n",
      "9            101.03      2020  Desktop  \n"
     ]
    }
   ],
   "execution_count": 144
  },
  {
   "metadata": {
    "ExecuteTime": {
     "end_time": "2024-05-21T16:28:27.893163Z",
     "start_time": "2024-05-21T16:28:27.874183Z"
    }
   },
   "cell_type": "code",
   "source": [
    "def generate_combinations(cpu_data, gpu_data, motherboard_data, ram_data, psu_data,max_combinations=1000):\n",
    "    combinations = []\n",
    "    counter = 0\n",
    "    while counter <= max_combinations:\n",
    "        combination = []\n",
    "        combination.append(cpu_data.sample())\n",
    "        combination.append(gpu_data.sample())\n",
    "        mb = motherboard_data.sample()\n",
    "        combination.append(mb)\n",
    "        combination.append(mb['memory_slots'])\n",
    "        combination.append(ram_data.sample())\n",
    "        combination.append(psu_data.sample())\n",
    "        if check_compatibility(combination[0], combination[2], combination[1], combination[5], combination[4]):\n",
    "            combinations.append(combination)\n",
    "            counter += 1\n",
    "        \n",
    "    return combinations"
   ],
   "id": "3869619d05d35a5c",
   "outputs": [],
   "execution_count": 6
  },
  {
   "metadata": {
    "ExecuteTime": {
     "end_time": "2024-05-21T16:28:28.709556Z",
     "start_time": "2024-05-21T16:28:28.698343Z"
    }
   },
   "cell_type": "code",
   "source": [
    "def check_compatibility(cpu, motherboard, gpu, psu, ram):\n",
    "    if cpu['socket'].values.tolist()[0] != motherboard['socket'].values.tolist()[0]:\n",
    "        return False\n",
    "    if cpu['TDP'].values.tolist()[0] + gpu['TDP'].values.tolist()[0] > psu['wattage'].values.tolist()[0]:\n",
    "        return False\n",
    "    if ram['planks'].values.tolist()[0] > motherboard['memory_slots'].values.tolist()[0]:\n",
    "        return False\n",
    "    return True"
   ],
   "id": "2b4c84ce9841ccbd",
   "outputs": [],
   "execution_count": 7
  },
  {
   "metadata": {
    "ExecuteTime": {
     "end_time": "2024-05-21T16:28:30.331948Z",
     "start_time": "2024-05-21T16:28:30.325471Z"
    }
   },
   "cell_type": "code",
   "source": [
    "def convert_range(x, min_x=1, max_x=40, min_y=1, max_y=100):\n",
    "    return ((x - min_x) / (max_x - min_x)) * (max_y - min_y) + min_y"
   ],
   "id": "4ec2cf7777dfd5c0",
   "outputs": [],
   "execution_count": 8
  },
  {
   "metadata": {
    "ExecuteTime": {
     "end_time": "2024-05-21T16:29:30.392539Z",
     "start_time": "2024-05-21T16:28:32.089345Z"
    }
   },
   "cell_type": "code",
   "source": "compatible_configs = generate_combinations(cpu_df, gpu_df, mb_df, ram_df, ps_df, 5000)",
   "id": "8d79e53e3a3b0b0c",
   "outputs": [],
   "execution_count": 9
  },
  {
   "metadata": {
    "ExecuteTime": {
     "end_time": "2024-05-21T16:29:35.090372Z",
     "start_time": "2024-05-21T16:29:35.085185Z"
    }
   },
   "cell_type": "code",
   "source": "",
   "id": "8529a1323b99526a",
   "outputs": [],
   "execution_count": 9
  },
  {
   "metadata": {
    "ExecuteTime": {
     "end_time": "2024-05-21T16:29:35.520563Z",
     "start_time": "2024-05-21T16:29:35.476488Z"
    }
   },
   "cell_type": "code",
   "source": [
    "types = ['Gaming', 'Professional', 'Office', 'Multimedia', 'All-in-One']\n",
    "ratings_weights = {\n",
    "        'Gaming': {'cpuMark': 0.3, 'threadMark': 0.3, 'G3Dmark': 0.3, 'ram_size': 0.1},\n",
    "        'Professional': {'G3Dmark': 0.5, 'G2Dmark': 0.2, 'ram_size': 0.3},\n",
    "        'Office': {'threadMark': 0.6, 'ram_size': 0.4},\n",
    "        'Multimedia': {'cpuMark': 0.5, 'G2Dmark': 0.4, 'ram_size': 0.1},\n",
    "        'All-in-One': {'cpuMark': 0.2, 'threadMark': 0.2, 'G3Dmark': 0.2, 'G2Dmark': 0.2, 'ram_size': 0.2}\n",
    "}    "
   ],
   "id": "76035b3d1d1a126",
   "outputs": [],
   "execution_count": 10
  },
  {
   "metadata": {
    "ExecuteTime": {
     "end_time": "2024-05-21T16:29:41.430203Z",
     "start_time": "2024-05-21T16:29:36.422267Z"
    }
   },
   "cell_type": "code",
   "source": [
    "configurations = []\n",
    "for config in compatible_configs:\n",
    "        pc_type = rd.choice(types)\n",
    "        rating = 0\n",
    "        price = config[0]['price'].values[0] + config[1]['price'].values[0] + config[2]['price'].values[0] + config[4]['price'].values[0] + config[5]['price'].values[0]\n",
    "        \n",
    "        if pc_type == 'Gaming':\n",
    "            rating = config[0]['cpuMark'].values[0] * ratings_weights['Gaming']['cpuMark'] / 100 + config[0]['threadMark'].values[0] * ratings_weights['Gaming']['threadMark'] / 10 + config[1]['G3Dmark'].values[0] * ratings_weights['Gaming']['G3Dmark'] / 100 + config[4]['size'].values[0] * ratings_weights['Gaming']['ram_size'] * 10\n",
    "        elif pc_type == 'Professional':\n",
    "            rating = (config[1]['G3Dmark'].values[0] * ratings_weights['Professional']['G3Dmark'] / 100 + \n",
    "                config[1]['G2Dmark'].values[0] * ratings_weights['Professional']['G2Dmark'] / 1 + config[4]['size'].values[0] * ratings_weights['Professional']['ram_size'] * 10)\n",
    "        elif pc_type == 'Office':\n",
    "            rating = config[0]['threadMark'].values[0] * ratings_weights['Office']['threadMark'] / 10 + config[4]['size'].values[0] * ratings_weights['Office']['ram_size'] * 10\n",
    "        elif pc_type == 'Multimedia':\n",
    "            rating = (config[0]['cpuMark'].values[0] * ratings_weights['Multimedia']['cpuMark'] / 100 + \n",
    "                       config[1]['G2Dmark'].values[0] * ratings_weights['Multimedia']['G2Dmark'] / 1 + config[4]['size'].values[0] * ratings_weights['Multimedia']['ram_size'] * 10)\n",
    "        else:\n",
    "           rating = (config[0]['cpuMark'].values[0] * ratings_weights['All-in-One']['cpuMark'] / 100 + config[0]['threadMark'].values[0] * ratings_weights['All-in-One']['threadMark'] / 10 + config[1]['G3Dmark'].values[0] * ratings_weights['All-in-One']['G3Dmark'] / 100 + \n",
    "            config[1]['G2Dmark'].values[0] * ratings_weights['All-in-One']['G2Dmark'] / 1 + config[4]['size'].values[0] * ratings_weights['All-in-One']['ram_size'] * 10)\n",
    "        \n",
    "        rating = rating / price * 100\n",
    "        configurations.append({'cpu': config[0]['cpuName'].values[0], \n",
    "                               'motherboard': config[2]['name'].values[0], \n",
    "                               'gpu': config[1]['gpuName'].values[0], \n",
    "                               'ram': config[4]['name'].values[0], \n",
    "                               'psu': config[5]['name'].values[0], \n",
    "                               'price' : price, 'type': pc_type,'rating': rating})"
   ],
   "id": "193016cb6b989c80",
   "outputs": [],
   "execution_count": 11
  },
  {
   "metadata": {
    "ExecuteTime": {
     "end_time": "2024-05-21T16:29:42.468783Z",
     "start_time": "2024-05-21T16:29:42.439716Z"
    }
   },
   "cell_type": "code",
   "source": "pc_df = pd.DataFrame(configurations)",
   "id": "3be45bc0c7b0b923",
   "outputs": [],
   "execution_count": 12
  },
  {
   "metadata": {
    "ExecuteTime": {
     "end_time": "2024-05-21T16:29:43.441734Z",
     "start_time": "2024-05-21T16:29:43.410855Z"
    }
   },
   "cell_type": "code",
   "source": [
    "result = pc_df.groupby('type')['rating'].agg(['max', 'min', 'mean']).reset_index()\n",
    "\n",
    "print(result)"
   ],
   "id": "8e20462d1e88069a",
   "outputs": [
    {
     "name": "stdout",
     "output_type": "stream",
     "text": [
      "           type         max       min       mean\n",
      "0    All-in-One   48.378779  3.917373  23.678741\n",
      "1        Gaming   28.799526  3.099192  14.235477\n",
      "2    Multimedia   57.837973  8.184230  30.650555\n",
      "3        Office  105.660722  4.872517  20.515666\n",
      "4  Professional   61.764482  3.647711  22.287426\n"
     ]
    }
   ],
   "execution_count": 13
  },
  {
   "metadata": {
    "ExecuteTime": {
     "end_time": "2024-05-20T08:33:46.218316Z",
     "start_time": "2024-05-20T08:33:46.193861Z"
    }
   },
   "cell_type": "code",
   "source": "pc_df.head(10)",
   "id": "e86c3fa9acf19b64",
   "outputs": [
    {
     "data": {
      "text/plain": [
       "              price       rating\n",
       "count   5001.000000  5001.000000\n",
       "mean    1580.917227    22.257847\n",
       "std      614.521365     9.391289\n",
       "min      449.010000     3.707186\n",
       "25%     1153.950000    14.994484\n",
       "50%     1443.190000    20.991128\n",
       "75%     1878.180000    28.195875\n",
       "max    11292.960000    74.426149"
      ],
      "text/html": [
       "<div>\n",
       "<style scoped>\n",
       "    .dataframe tbody tr th:only-of-type {\n",
       "        vertical-align: middle;\n",
       "    }\n",
       "\n",
       "    .dataframe tbody tr th {\n",
       "        vertical-align: top;\n",
       "    }\n",
       "\n",
       "    .dataframe thead th {\n",
       "        text-align: right;\n",
       "    }\n",
       "</style>\n",
       "<table border=\"1\" class=\"dataframe\">\n",
       "  <thead>\n",
       "    <tr style=\"text-align: right;\">\n",
       "      <th></th>\n",
       "      <th>price</th>\n",
       "      <th>rating</th>\n",
       "    </tr>\n",
       "  </thead>\n",
       "  <tbody>\n",
       "    <tr>\n",
       "      <th>count</th>\n",
       "      <td>5001.000000</td>\n",
       "      <td>5001.000000</td>\n",
       "    </tr>\n",
       "    <tr>\n",
       "      <th>mean</th>\n",
       "      <td>1580.917227</td>\n",
       "      <td>22.257847</td>\n",
       "    </tr>\n",
       "    <tr>\n",
       "      <th>std</th>\n",
       "      <td>614.521365</td>\n",
       "      <td>9.391289</td>\n",
       "    </tr>\n",
       "    <tr>\n",
       "      <th>min</th>\n",
       "      <td>449.010000</td>\n",
       "      <td>3.707186</td>\n",
       "    </tr>\n",
       "    <tr>\n",
       "      <th>25%</th>\n",
       "      <td>1153.950000</td>\n",
       "      <td>14.994484</td>\n",
       "    </tr>\n",
       "    <tr>\n",
       "      <th>50%</th>\n",
       "      <td>1443.190000</td>\n",
       "      <td>20.991128</td>\n",
       "    </tr>\n",
       "    <tr>\n",
       "      <th>75%</th>\n",
       "      <td>1878.180000</td>\n",
       "      <td>28.195875</td>\n",
       "    </tr>\n",
       "    <tr>\n",
       "      <th>max</th>\n",
       "      <td>11292.960000</td>\n",
       "      <td>74.426149</td>\n",
       "    </tr>\n",
       "  </tbody>\n",
       "</table>\n",
       "</div>"
      ]
     },
     "execution_count": 134,
     "metadata": {},
     "output_type": "execute_result"
    }
   ],
   "execution_count": 134
  },
  {
   "metadata": {
    "ExecuteTime": {
     "end_time": "2024-05-21T16:29:57.498254Z",
     "start_time": "2024-05-21T16:29:57.389979Z"
    }
   },
   "cell_type": "code",
   "source": "pc_df.to_csv(\"pc_v2.csv\", index=False)",
   "id": "15269645c7af5ed1",
   "outputs": [],
   "execution_count": 14
  },
  {
   "metadata": {
    "ExecuteTime": {
     "end_time": "2024-05-21T16:29:58.173964Z",
     "start_time": "2024-05-21T16:29:58.160029Z"
    }
   },
   "cell_type": "code",
   "source": [
    "features = ['cpu', 'motherboard', 'gpu', 'ram', 'psu', 'type', 'price']\n",
    "target = 'rating'"
   ],
   "id": "bb45ce15bc763bc5",
   "outputs": [],
   "execution_count": 15
  },
  {
   "metadata": {
    "ExecuteTime": {
     "end_time": "2024-05-21T16:29:58.958848Z",
     "start_time": "2024-05-21T16:29:58.939623Z"
    }
   },
   "cell_type": "code",
   "source": "X_train, X_test, y_train, y_test = train_test_split(pc_df[features], pc_df[target], test_size=0.2, random_state=42)",
   "id": "cbf49b67d61359c5",
   "outputs": [],
   "execution_count": 16
  },
  {
   "metadata": {
    "ExecuteTime": {
     "end_time": "2024-05-21T16:29:59.673888Z",
     "start_time": "2024-05-21T16:29:59.664649Z"
    }
   },
   "cell_type": "code",
   "source": "categorical_features = ['cpu', 'motherboard', 'gpu', 'ram', 'psu', 'type']",
   "id": "27be75c7903fc337",
   "outputs": [],
   "execution_count": 17
  },
  {
   "metadata": {
    "ExecuteTime": {
     "end_time": "2024-05-21T16:30:00.378457Z",
     "start_time": "2024-05-21T16:30:00.369594Z"
    }
   },
   "cell_type": "code",
   "source": [
    "preprocessor = ColumnTransformer(\n",
    "    transformers=[\n",
    "        ('cat', OneHotEncoder(handle_unknown='ignore'), categorical_features)\n",
    "    ], remainder='passthrough')"
   ],
   "id": "173cd314f009f8f8",
   "outputs": [],
   "execution_count": 18
  },
  {
   "metadata": {
    "ExecuteTime": {
     "end_time": "2024-05-21T16:30:01.611529Z",
     "start_time": "2024-05-21T16:30:01.605602Z"
    }
   },
   "cell_type": "code",
   "source": [
    "model = Pipeline(steps=[\n",
    "    ('preprocessor', preprocessor),\n",
    "    ('regressor', RandomForestRegressor(random_state=42))\n",
    "])"
   ],
   "id": "263e9460a6e463e6",
   "outputs": [],
   "execution_count": 19
  },
  {
   "metadata": {
    "ExecuteTime": {
     "end_time": "2024-05-21T16:30:51.475085Z",
     "start_time": "2024-05-21T16:30:02.394696Z"
    }
   },
   "cell_type": "code",
   "source": "model.fit(X_train, y_train)",
   "id": "7a2cc78c76ce6e79",
   "outputs": [
    {
     "data": {
      "text/plain": [
       "Pipeline(steps=[('preprocessor',\n",
       "                 ColumnTransformer(remainder='passthrough',\n",
       "                                   transformers=[('cat',\n",
       "                                                  OneHotEncoder(handle_unknown='ignore'),\n",
       "                                                  ['cpu', 'motherboard', 'gpu',\n",
       "                                                   'ram', 'psu', 'type'])])),\n",
       "                ('regressor', RandomForestRegressor(random_state=42))])"
      ],
      "text/html": [
       "<style>#sk-container-id-1 {\n",
       "  /* Definition of color scheme common for light and dark mode */\n",
       "  --sklearn-color-text: black;\n",
       "  --sklearn-color-line: gray;\n",
       "  /* Definition of color scheme for unfitted estimators */\n",
       "  --sklearn-color-unfitted-level-0: #fff5e6;\n",
       "  --sklearn-color-unfitted-level-1: #f6e4d2;\n",
       "  --sklearn-color-unfitted-level-2: #ffe0b3;\n",
       "  --sklearn-color-unfitted-level-3: chocolate;\n",
       "  /* Definition of color scheme for fitted estimators */\n",
       "  --sklearn-color-fitted-level-0: #f0f8ff;\n",
       "  --sklearn-color-fitted-level-1: #d4ebff;\n",
       "  --sklearn-color-fitted-level-2: #b3dbfd;\n",
       "  --sklearn-color-fitted-level-3: cornflowerblue;\n",
       "\n",
       "  /* Specific color for light theme */\n",
       "  --sklearn-color-text-on-default-background: var(--sg-text-color, var(--theme-code-foreground, var(--jp-content-font-color1, black)));\n",
       "  --sklearn-color-background: var(--sg-background-color, var(--theme-background, var(--jp-layout-color0, white)));\n",
       "  --sklearn-color-border-box: var(--sg-text-color, var(--theme-code-foreground, var(--jp-content-font-color1, black)));\n",
       "  --sklearn-color-icon: #696969;\n",
       "\n",
       "  @media (prefers-color-scheme: dark) {\n",
       "    /* Redefinition of color scheme for dark theme */\n",
       "    --sklearn-color-text-on-default-background: var(--sg-text-color, var(--theme-code-foreground, var(--jp-content-font-color1, white)));\n",
       "    --sklearn-color-background: var(--sg-background-color, var(--theme-background, var(--jp-layout-color0, #111)));\n",
       "    --sklearn-color-border-box: var(--sg-text-color, var(--theme-code-foreground, var(--jp-content-font-color1, white)));\n",
       "    --sklearn-color-icon: #878787;\n",
       "  }\n",
       "}\n",
       "\n",
       "#sk-container-id-1 {\n",
       "  color: var(--sklearn-color-text);\n",
       "}\n",
       "\n",
       "#sk-container-id-1 pre {\n",
       "  padding: 0;\n",
       "}\n",
       "\n",
       "#sk-container-id-1 input.sk-hidden--visually {\n",
       "  border: 0;\n",
       "  clip: rect(1px 1px 1px 1px);\n",
       "  clip: rect(1px, 1px, 1px, 1px);\n",
       "  height: 1px;\n",
       "  margin: -1px;\n",
       "  overflow: hidden;\n",
       "  padding: 0;\n",
       "  position: absolute;\n",
       "  width: 1px;\n",
       "}\n",
       "\n",
       "#sk-container-id-1 div.sk-dashed-wrapped {\n",
       "  border: 1px dashed var(--sklearn-color-line);\n",
       "  margin: 0 0.4em 0.5em 0.4em;\n",
       "  box-sizing: border-box;\n",
       "  padding-bottom: 0.4em;\n",
       "  background-color: var(--sklearn-color-background);\n",
       "}\n",
       "\n",
       "#sk-container-id-1 div.sk-container {\n",
       "  /* jupyter's `normalize.less` sets `[hidden] { display: none; }`\n",
       "     but bootstrap.min.css set `[hidden] { display: none !important; }`\n",
       "     so we also need the `!important` here to be able to override the\n",
       "     default hidden behavior on the sphinx rendered scikit-learn.org.\n",
       "     See: https://github.com/scikit-learn/scikit-learn/issues/21755 */\n",
       "  display: inline-block !important;\n",
       "  position: relative;\n",
       "}\n",
       "\n",
       "#sk-container-id-1 div.sk-text-repr-fallback {\n",
       "  display: none;\n",
       "}\n",
       "\n",
       "div.sk-parallel-item,\n",
       "div.sk-serial,\n",
       "div.sk-item {\n",
       "  /* draw centered vertical line to link estimators */\n",
       "  background-image: linear-gradient(var(--sklearn-color-text-on-default-background), var(--sklearn-color-text-on-default-background));\n",
       "  background-size: 2px 100%;\n",
       "  background-repeat: no-repeat;\n",
       "  background-position: center center;\n",
       "}\n",
       "\n",
       "/* Parallel-specific style estimator block */\n",
       "\n",
       "#sk-container-id-1 div.sk-parallel-item::after {\n",
       "  content: \"\";\n",
       "  width: 100%;\n",
       "  border-bottom: 2px solid var(--sklearn-color-text-on-default-background);\n",
       "  flex-grow: 1;\n",
       "}\n",
       "\n",
       "#sk-container-id-1 div.sk-parallel {\n",
       "  display: flex;\n",
       "  align-items: stretch;\n",
       "  justify-content: center;\n",
       "  background-color: var(--sklearn-color-background);\n",
       "  position: relative;\n",
       "}\n",
       "\n",
       "#sk-container-id-1 div.sk-parallel-item {\n",
       "  display: flex;\n",
       "  flex-direction: column;\n",
       "}\n",
       "\n",
       "#sk-container-id-1 div.sk-parallel-item:first-child::after {\n",
       "  align-self: flex-end;\n",
       "  width: 50%;\n",
       "}\n",
       "\n",
       "#sk-container-id-1 div.sk-parallel-item:last-child::after {\n",
       "  align-self: flex-start;\n",
       "  width: 50%;\n",
       "}\n",
       "\n",
       "#sk-container-id-1 div.sk-parallel-item:only-child::after {\n",
       "  width: 0;\n",
       "}\n",
       "\n",
       "/* Serial-specific style estimator block */\n",
       "\n",
       "#sk-container-id-1 div.sk-serial {\n",
       "  display: flex;\n",
       "  flex-direction: column;\n",
       "  align-items: center;\n",
       "  background-color: var(--sklearn-color-background);\n",
       "  padding-right: 1em;\n",
       "  padding-left: 1em;\n",
       "}\n",
       "\n",
       "\n",
       "/* Toggleable style: style used for estimator/Pipeline/ColumnTransformer box that is\n",
       "clickable and can be expanded/collapsed.\n",
       "- Pipeline and ColumnTransformer use this feature and define the default style\n",
       "- Estimators will overwrite some part of the style using the `sk-estimator` class\n",
       "*/\n",
       "\n",
       "/* Pipeline and ColumnTransformer style (default) */\n",
       "\n",
       "#sk-container-id-1 div.sk-toggleable {\n",
       "  /* Default theme specific background. It is overwritten whether we have a\n",
       "  specific estimator or a Pipeline/ColumnTransformer */\n",
       "  background-color: var(--sklearn-color-background);\n",
       "}\n",
       "\n",
       "/* Toggleable label */\n",
       "#sk-container-id-1 label.sk-toggleable__label {\n",
       "  cursor: pointer;\n",
       "  display: block;\n",
       "  width: 100%;\n",
       "  margin-bottom: 0;\n",
       "  padding: 0.5em;\n",
       "  box-sizing: border-box;\n",
       "  text-align: center;\n",
       "}\n",
       "\n",
       "#sk-container-id-1 label.sk-toggleable__label-arrow:before {\n",
       "  /* Arrow on the left of the label */\n",
       "  content: \"▸\";\n",
       "  float: left;\n",
       "  margin-right: 0.25em;\n",
       "  color: var(--sklearn-color-icon);\n",
       "}\n",
       "\n",
       "#sk-container-id-1 label.sk-toggleable__label-arrow:hover:before {\n",
       "  color: var(--sklearn-color-text);\n",
       "}\n",
       "\n",
       "/* Toggleable content - dropdown */\n",
       "\n",
       "#sk-container-id-1 div.sk-toggleable__content {\n",
       "  max-height: 0;\n",
       "  max-width: 0;\n",
       "  overflow: hidden;\n",
       "  text-align: left;\n",
       "  /* unfitted */\n",
       "  background-color: var(--sklearn-color-unfitted-level-0);\n",
       "}\n",
       "\n",
       "#sk-container-id-1 div.sk-toggleable__content.fitted {\n",
       "  /* fitted */\n",
       "  background-color: var(--sklearn-color-fitted-level-0);\n",
       "}\n",
       "\n",
       "#sk-container-id-1 div.sk-toggleable__content pre {\n",
       "  margin: 0.2em;\n",
       "  border-radius: 0.25em;\n",
       "  color: var(--sklearn-color-text);\n",
       "  /* unfitted */\n",
       "  background-color: var(--sklearn-color-unfitted-level-0);\n",
       "}\n",
       "\n",
       "#sk-container-id-1 div.sk-toggleable__content.fitted pre {\n",
       "  /* unfitted */\n",
       "  background-color: var(--sklearn-color-fitted-level-0);\n",
       "}\n",
       "\n",
       "#sk-container-id-1 input.sk-toggleable__control:checked~div.sk-toggleable__content {\n",
       "  /* Expand drop-down */\n",
       "  max-height: 200px;\n",
       "  max-width: 100%;\n",
       "  overflow: auto;\n",
       "}\n",
       "\n",
       "#sk-container-id-1 input.sk-toggleable__control:checked~label.sk-toggleable__label-arrow:before {\n",
       "  content: \"▾\";\n",
       "}\n",
       "\n",
       "/* Pipeline/ColumnTransformer-specific style */\n",
       "\n",
       "#sk-container-id-1 div.sk-label input.sk-toggleable__control:checked~label.sk-toggleable__label {\n",
       "  color: var(--sklearn-color-text);\n",
       "  background-color: var(--sklearn-color-unfitted-level-2);\n",
       "}\n",
       "\n",
       "#sk-container-id-1 div.sk-label.fitted input.sk-toggleable__control:checked~label.sk-toggleable__label {\n",
       "  background-color: var(--sklearn-color-fitted-level-2);\n",
       "}\n",
       "\n",
       "/* Estimator-specific style */\n",
       "\n",
       "/* Colorize estimator box */\n",
       "#sk-container-id-1 div.sk-estimator input.sk-toggleable__control:checked~label.sk-toggleable__label {\n",
       "  /* unfitted */\n",
       "  background-color: var(--sklearn-color-unfitted-level-2);\n",
       "}\n",
       "\n",
       "#sk-container-id-1 div.sk-estimator.fitted input.sk-toggleable__control:checked~label.sk-toggleable__label {\n",
       "  /* fitted */\n",
       "  background-color: var(--sklearn-color-fitted-level-2);\n",
       "}\n",
       "\n",
       "#sk-container-id-1 div.sk-label label.sk-toggleable__label,\n",
       "#sk-container-id-1 div.sk-label label {\n",
       "  /* The background is the default theme color */\n",
       "  color: var(--sklearn-color-text-on-default-background);\n",
       "}\n",
       "\n",
       "/* On hover, darken the color of the background */\n",
       "#sk-container-id-1 div.sk-label:hover label.sk-toggleable__label {\n",
       "  color: var(--sklearn-color-text);\n",
       "  background-color: var(--sklearn-color-unfitted-level-2);\n",
       "}\n",
       "\n",
       "/* Label box, darken color on hover, fitted */\n",
       "#sk-container-id-1 div.sk-label.fitted:hover label.sk-toggleable__label.fitted {\n",
       "  color: var(--sklearn-color-text);\n",
       "  background-color: var(--sklearn-color-fitted-level-2);\n",
       "}\n",
       "\n",
       "/* Estimator label */\n",
       "\n",
       "#sk-container-id-1 div.sk-label label {\n",
       "  font-family: monospace;\n",
       "  font-weight: bold;\n",
       "  display: inline-block;\n",
       "  line-height: 1.2em;\n",
       "}\n",
       "\n",
       "#sk-container-id-1 div.sk-label-container {\n",
       "  text-align: center;\n",
       "}\n",
       "\n",
       "/* Estimator-specific */\n",
       "#sk-container-id-1 div.sk-estimator {\n",
       "  font-family: monospace;\n",
       "  border: 1px dotted var(--sklearn-color-border-box);\n",
       "  border-radius: 0.25em;\n",
       "  box-sizing: border-box;\n",
       "  margin-bottom: 0.5em;\n",
       "  /* unfitted */\n",
       "  background-color: var(--sklearn-color-unfitted-level-0);\n",
       "}\n",
       "\n",
       "#sk-container-id-1 div.sk-estimator.fitted {\n",
       "  /* fitted */\n",
       "  background-color: var(--sklearn-color-fitted-level-0);\n",
       "}\n",
       "\n",
       "/* on hover */\n",
       "#sk-container-id-1 div.sk-estimator:hover {\n",
       "  /* unfitted */\n",
       "  background-color: var(--sklearn-color-unfitted-level-2);\n",
       "}\n",
       "\n",
       "#sk-container-id-1 div.sk-estimator.fitted:hover {\n",
       "  /* fitted */\n",
       "  background-color: var(--sklearn-color-fitted-level-2);\n",
       "}\n",
       "\n",
       "/* Specification for estimator info (e.g. \"i\" and \"?\") */\n",
       "\n",
       "/* Common style for \"i\" and \"?\" */\n",
       "\n",
       ".sk-estimator-doc-link,\n",
       "a:link.sk-estimator-doc-link,\n",
       "a:visited.sk-estimator-doc-link {\n",
       "  float: right;\n",
       "  font-size: smaller;\n",
       "  line-height: 1em;\n",
       "  font-family: monospace;\n",
       "  background-color: var(--sklearn-color-background);\n",
       "  border-radius: 1em;\n",
       "  height: 1em;\n",
       "  width: 1em;\n",
       "  text-decoration: none !important;\n",
       "  margin-left: 1ex;\n",
       "  /* unfitted */\n",
       "  border: var(--sklearn-color-unfitted-level-1) 1pt solid;\n",
       "  color: var(--sklearn-color-unfitted-level-1);\n",
       "}\n",
       "\n",
       ".sk-estimator-doc-link.fitted,\n",
       "a:link.sk-estimator-doc-link.fitted,\n",
       "a:visited.sk-estimator-doc-link.fitted {\n",
       "  /* fitted */\n",
       "  border: var(--sklearn-color-fitted-level-1) 1pt solid;\n",
       "  color: var(--sklearn-color-fitted-level-1);\n",
       "}\n",
       "\n",
       "/* On hover */\n",
       "div.sk-estimator:hover .sk-estimator-doc-link:hover,\n",
       ".sk-estimator-doc-link:hover,\n",
       "div.sk-label-container:hover .sk-estimator-doc-link:hover,\n",
       ".sk-estimator-doc-link:hover {\n",
       "  /* unfitted */\n",
       "  background-color: var(--sklearn-color-unfitted-level-3);\n",
       "  color: var(--sklearn-color-background);\n",
       "  text-decoration: none;\n",
       "}\n",
       "\n",
       "div.sk-estimator.fitted:hover .sk-estimator-doc-link.fitted:hover,\n",
       ".sk-estimator-doc-link.fitted:hover,\n",
       "div.sk-label-container:hover .sk-estimator-doc-link.fitted:hover,\n",
       ".sk-estimator-doc-link.fitted:hover {\n",
       "  /* fitted */\n",
       "  background-color: var(--sklearn-color-fitted-level-3);\n",
       "  color: var(--sklearn-color-background);\n",
       "  text-decoration: none;\n",
       "}\n",
       "\n",
       "/* Span, style for the box shown on hovering the info icon */\n",
       ".sk-estimator-doc-link span {\n",
       "  display: none;\n",
       "  z-index: 9999;\n",
       "  position: relative;\n",
       "  font-weight: normal;\n",
       "  right: .2ex;\n",
       "  padding: .5ex;\n",
       "  margin: .5ex;\n",
       "  width: min-content;\n",
       "  min-width: 20ex;\n",
       "  max-width: 50ex;\n",
       "  color: var(--sklearn-color-text);\n",
       "  box-shadow: 2pt 2pt 4pt #999;\n",
       "  /* unfitted */\n",
       "  background: var(--sklearn-color-unfitted-level-0);\n",
       "  border: .5pt solid var(--sklearn-color-unfitted-level-3);\n",
       "}\n",
       "\n",
       ".sk-estimator-doc-link.fitted span {\n",
       "  /* fitted */\n",
       "  background: var(--sklearn-color-fitted-level-0);\n",
       "  border: var(--sklearn-color-fitted-level-3);\n",
       "}\n",
       "\n",
       ".sk-estimator-doc-link:hover span {\n",
       "  display: block;\n",
       "}\n",
       "\n",
       "/* \"?\"-specific style due to the `<a>` HTML tag */\n",
       "\n",
       "#sk-container-id-1 a.estimator_doc_link {\n",
       "  float: right;\n",
       "  font-size: 1rem;\n",
       "  line-height: 1em;\n",
       "  font-family: monospace;\n",
       "  background-color: var(--sklearn-color-background);\n",
       "  border-radius: 1rem;\n",
       "  height: 1rem;\n",
       "  width: 1rem;\n",
       "  text-decoration: none;\n",
       "  /* unfitted */\n",
       "  color: var(--sklearn-color-unfitted-level-1);\n",
       "  border: var(--sklearn-color-unfitted-level-1) 1pt solid;\n",
       "}\n",
       "\n",
       "#sk-container-id-1 a.estimator_doc_link.fitted {\n",
       "  /* fitted */\n",
       "  border: var(--sklearn-color-fitted-level-1) 1pt solid;\n",
       "  color: var(--sklearn-color-fitted-level-1);\n",
       "}\n",
       "\n",
       "/* On hover */\n",
       "#sk-container-id-1 a.estimator_doc_link:hover {\n",
       "  /* unfitted */\n",
       "  background-color: var(--sklearn-color-unfitted-level-3);\n",
       "  color: var(--sklearn-color-background);\n",
       "  text-decoration: none;\n",
       "}\n",
       "\n",
       "#sk-container-id-1 a.estimator_doc_link.fitted:hover {\n",
       "  /* fitted */\n",
       "  background-color: var(--sklearn-color-fitted-level-3);\n",
       "}\n",
       "</style><div id=\"sk-container-id-1\" class=\"sk-top-container\"><div class=\"sk-text-repr-fallback\"><pre>Pipeline(steps=[(&#x27;preprocessor&#x27;,\n",
       "                 ColumnTransformer(remainder=&#x27;passthrough&#x27;,\n",
       "                                   transformers=[(&#x27;cat&#x27;,\n",
       "                                                  OneHotEncoder(handle_unknown=&#x27;ignore&#x27;),\n",
       "                                                  [&#x27;cpu&#x27;, &#x27;motherboard&#x27;, &#x27;gpu&#x27;,\n",
       "                                                   &#x27;ram&#x27;, &#x27;psu&#x27;, &#x27;type&#x27;])])),\n",
       "                (&#x27;regressor&#x27;, RandomForestRegressor(random_state=42))])</pre><b>In a Jupyter environment, please rerun this cell to show the HTML representation or trust the notebook. <br />On GitHub, the HTML representation is unable to render, please try loading this page with nbviewer.org.</b></div><div class=\"sk-container\" hidden><div class=\"sk-item sk-dashed-wrapped\"><div class=\"sk-label-container\"><div class=\"sk-label fitted sk-toggleable\"><input class=\"sk-toggleable__control sk-hidden--visually\" id=\"sk-estimator-id-1\" type=\"checkbox\" ><label for=\"sk-estimator-id-1\" class=\"sk-toggleable__label fitted sk-toggleable__label-arrow fitted\">&nbsp;&nbsp;Pipeline<a class=\"sk-estimator-doc-link fitted\" rel=\"noreferrer\" target=\"_blank\" href=\"https://scikit-learn.org/1.4/modules/generated/sklearn.pipeline.Pipeline.html\">?<span>Documentation for Pipeline</span></a><span class=\"sk-estimator-doc-link fitted\">i<span>Fitted</span></span></label><div class=\"sk-toggleable__content fitted\"><pre>Pipeline(steps=[(&#x27;preprocessor&#x27;,\n",
       "                 ColumnTransformer(remainder=&#x27;passthrough&#x27;,\n",
       "                                   transformers=[(&#x27;cat&#x27;,\n",
       "                                                  OneHotEncoder(handle_unknown=&#x27;ignore&#x27;),\n",
       "                                                  [&#x27;cpu&#x27;, &#x27;motherboard&#x27;, &#x27;gpu&#x27;,\n",
       "                                                   &#x27;ram&#x27;, &#x27;psu&#x27;, &#x27;type&#x27;])])),\n",
       "                (&#x27;regressor&#x27;, RandomForestRegressor(random_state=42))])</pre></div> </div></div><div class=\"sk-serial\"><div class=\"sk-item sk-dashed-wrapped\"><div class=\"sk-label-container\"><div class=\"sk-label fitted sk-toggleable\"><input class=\"sk-toggleable__control sk-hidden--visually\" id=\"sk-estimator-id-2\" type=\"checkbox\" ><label for=\"sk-estimator-id-2\" class=\"sk-toggleable__label fitted sk-toggleable__label-arrow fitted\">&nbsp;preprocessor: ColumnTransformer<a class=\"sk-estimator-doc-link fitted\" rel=\"noreferrer\" target=\"_blank\" href=\"https://scikit-learn.org/1.4/modules/generated/sklearn.compose.ColumnTransformer.html\">?<span>Documentation for preprocessor: ColumnTransformer</span></a></label><div class=\"sk-toggleable__content fitted\"><pre>ColumnTransformer(remainder=&#x27;passthrough&#x27;,\n",
       "                  transformers=[(&#x27;cat&#x27;, OneHotEncoder(handle_unknown=&#x27;ignore&#x27;),\n",
       "                                 [&#x27;cpu&#x27;, &#x27;motherboard&#x27;, &#x27;gpu&#x27;, &#x27;ram&#x27;, &#x27;psu&#x27;,\n",
       "                                  &#x27;type&#x27;])])</pre></div> </div></div><div class=\"sk-parallel\"><div class=\"sk-parallel-item\"><div class=\"sk-item\"><div class=\"sk-label-container\"><div class=\"sk-label fitted sk-toggleable\"><input class=\"sk-toggleable__control sk-hidden--visually\" id=\"sk-estimator-id-3\" type=\"checkbox\" ><label for=\"sk-estimator-id-3\" class=\"sk-toggleable__label fitted sk-toggleable__label-arrow fitted\">cat</label><div class=\"sk-toggleable__content fitted\"><pre>[&#x27;cpu&#x27;, &#x27;motherboard&#x27;, &#x27;gpu&#x27;, &#x27;ram&#x27;, &#x27;psu&#x27;, &#x27;type&#x27;]</pre></div> </div></div><div class=\"sk-serial\"><div class=\"sk-item\"><div class=\"sk-estimator fitted sk-toggleable\"><input class=\"sk-toggleable__control sk-hidden--visually\" id=\"sk-estimator-id-4\" type=\"checkbox\" ><label for=\"sk-estimator-id-4\" class=\"sk-toggleable__label fitted sk-toggleable__label-arrow fitted\">&nbsp;OneHotEncoder<a class=\"sk-estimator-doc-link fitted\" rel=\"noreferrer\" target=\"_blank\" href=\"https://scikit-learn.org/1.4/modules/generated/sklearn.preprocessing.OneHotEncoder.html\">?<span>Documentation for OneHotEncoder</span></a></label><div class=\"sk-toggleable__content fitted\"><pre>OneHotEncoder(handle_unknown=&#x27;ignore&#x27;)</pre></div> </div></div></div></div></div><div class=\"sk-parallel-item\"><div class=\"sk-item\"><div class=\"sk-label-container\"><div class=\"sk-label fitted sk-toggleable\"><input class=\"sk-toggleable__control sk-hidden--visually\" id=\"sk-estimator-id-5\" type=\"checkbox\" ><label for=\"sk-estimator-id-5\" class=\"sk-toggleable__label fitted sk-toggleable__label-arrow fitted\">remainder</label><div class=\"sk-toggleable__content fitted\"><pre>[&#x27;price&#x27;]</pre></div> </div></div><div class=\"sk-serial\"><div class=\"sk-item\"><div class=\"sk-estimator fitted sk-toggleable\"><input class=\"sk-toggleable__control sk-hidden--visually\" id=\"sk-estimator-id-6\" type=\"checkbox\" ><label for=\"sk-estimator-id-6\" class=\"sk-toggleable__label fitted sk-toggleable__label-arrow fitted\">passthrough</label><div class=\"sk-toggleable__content fitted\"><pre>passthrough</pre></div> </div></div></div></div></div></div></div><div class=\"sk-item\"><div class=\"sk-estimator fitted sk-toggleable\"><input class=\"sk-toggleable__control sk-hidden--visually\" id=\"sk-estimator-id-7\" type=\"checkbox\" ><label for=\"sk-estimator-id-7\" class=\"sk-toggleable__label fitted sk-toggleable__label-arrow fitted\">&nbsp;RandomForestRegressor<a class=\"sk-estimator-doc-link fitted\" rel=\"noreferrer\" target=\"_blank\" href=\"https://scikit-learn.org/1.4/modules/generated/sklearn.ensemble.RandomForestRegressor.html\">?<span>Documentation for RandomForestRegressor</span></a></label><div class=\"sk-toggleable__content fitted\"><pre>RandomForestRegressor(random_state=42)</pre></div> </div></div></div></div></div></div>"
      ]
     },
     "execution_count": 20,
     "metadata": {},
     "output_type": "execute_result"
    }
   ],
   "execution_count": 20
  },
  {
   "metadata": {
    "ExecuteTime": {
     "end_time": "2024-05-21T16:30:54.594848Z",
     "start_time": "2024-05-21T16:30:54.495012Z"
    }
   },
   "cell_type": "code",
   "source": "y_pred = model.predict(X_test)",
   "id": "31b09766a80096b7",
   "outputs": [],
   "execution_count": 21
  },
  {
   "metadata": {
    "ExecuteTime": {
     "end_time": "2024-05-21T16:30:55.633589Z",
     "start_time": "2024-05-21T16:30:55.624689Z"
    }
   },
   "cell_type": "code",
   "source": [
    "mse = mean_squared_error(y_test, y_pred)\n",
    "print(\"Mean Squared Error:\", mse)"
   ],
   "id": "a5fd8bdb0115dbd7",
   "outputs": [
    {
     "name": "stdout",
     "output_type": "stream",
     "text": [
      "Mean Squared Error: 28.684227935525797\n"
     ]
    }
   ],
   "execution_count": 22
  },
  {
   "metadata": {
    "ExecuteTime": {
     "end_time": "2024-05-21T16:30:59.536254Z",
     "start_time": "2024-05-21T16:30:59.479819Z"
    }
   },
   "cell_type": "code",
   "source": [
    "new_pc = pd.DataFrame([{\n",
    "    'cpu': 'Intel Core i9-12900K',\n",
    "    'motherboard': 'Asus PRIME Z690M-PLUS D4',\n",
    "    'gpu': 'Radeon RX 6800 XT',\n",
    "    'ram': 'Corsair Vengeance LPX 32GB',\n",
    "    'psu': 'Corsair RM850x',\n",
    "    'type': 'Professional',\n",
    "    'price': 2500.00\n",
    "}])\n",
    "\n",
    "new_rating = model.predict(new_pc)\n",
    "print(\"Predicted rating for new PC configuration:\", new_rating[0])"
   ],
   "id": "d4a12a5ecbaa419a",
   "outputs": [
    {
     "name": "stdout",
     "output_type": "stream",
     "text": [
      "Predicted rating for new PC configuration: 17.187184815517806\n"
     ]
    }
   ],
   "execution_count": 23
  },
  {
   "metadata": {
    "ExecuteTime": {
     "end_time": "2024-05-21T16:31:03.013295Z",
     "start_time": "2024-05-21T16:31:03.000190Z"
    }
   },
   "cell_type": "code",
   "source": "types = {'Gaming' : 15, 'Professional' : 20, 'Office' : 20, 'Multimedia' : 30, 'All-in-One' : 25}",
   "id": "fb8be32ccf3ba4d2",
   "outputs": [],
   "execution_count": 24
  },
  {
   "metadata": {
    "ExecuteTime": {
     "end_time": "2024-05-21T16:31:04.840154Z",
     "start_time": "2024-05-21T16:31:04.819828Z"
    }
   },
   "cell_type": "code",
   "source": [
    "def generate_random_combination(type, max_price):\n",
    "    cpu, gpu, ram, psu, mb, combination = None,None,None,None,None,None\n",
    "    price = 0\n",
    "    while True:\n",
    "        cpu = cpu_df.sample()\n",
    "        gpu = gpu_df.sample()\n",
    "        ram = ram_df.sample()\n",
    "        psu = ps_df.sample()\n",
    "        mb = mb_df.sample()\n",
    "        price = cpu['price'].values[0] + mb['price'].values[0] + gpu['price'].values[0] + ram['price'].values[0] + psu['price'].values[0]\n",
    "    \n",
    "        combination = pd.DataFrame([{\n",
    "                'cpu': cpu['cpuName'].values[0],\n",
    "                'motherboard': mb['name'].values[0],\n",
    "                'gpu': gpu['gpuName'].values[0],\n",
    "                'ram': ram['name'].values[0],\n",
    "                'psu': psu['name'].values[0],\n",
    "                'type': type,\n",
    "                'price': price\n",
    "        }])\n",
    "        \n",
    "        rating = model.predict(combination)[0]\n",
    "        rating_threshold = types.get(type)\n",
    "        if check_compatibility(cpu, mb, gpu, psu, ram) and max_price >= price >= (max_price * 0.7) and rating >= rating_threshold:\n",
    "            break\n",
    "                \n",
    "    return combination"
   ],
   "id": "5226a2ac374a37c0",
   "outputs": [],
   "execution_count": 25
  },
  {
   "metadata": {
    "ExecuteTime": {
     "end_time": "2024-05-21T17:48:35.951160Z",
     "start_time": "2024-05-21T17:48:35.758159Z"
    }
   },
   "cell_type": "code",
   "source": "config = generate_random_combination('Gaming', 1700)",
   "id": "c3418ecaa5894342",
   "outputs": [],
   "execution_count": 28
  },
  {
   "metadata": {
    "ExecuteTime": {
     "end_time": "2024-05-21T16:31:11.588722Z",
     "start_time": "2024-05-21T16:31:11.449932Z"
    }
   },
   "cell_type": "code",
   "source": "joblib.dump(model, 'model.pkl')",
   "id": "cd86a8b74ed20b4b",
   "outputs": [
    {
     "data": {
      "text/plain": [
       "['model.pkl']"
      ]
     },
     "execution_count": 27,
     "metadata": {},
     "output_type": "execute_result"
    }
   ],
   "execution_count": 27
  },
  {
   "metadata": {
    "ExecuteTime": {
     "end_time": "2024-05-21T17:49:48.858273Z",
     "start_time": "2024-05-21T17:49:48.841775Z"
    }
   },
   "cell_type": "code",
   "source": "config['cpu'].values[0]",
   "id": "82cd2a708c4d0d04",
   "outputs": [
    {
     "data": {
      "text/plain": [
       "'AMD Ryzen 7 5800X'"
      ]
     },
     "execution_count": 34,
     "metadata": {},
     "output_type": "execute_result"
    }
   ],
   "execution_count": 34
  },
  {
   "metadata": {
    "ExecuteTime": {
     "end_time": "2024-05-21T17:50:39.531872Z",
     "start_time": "2024-05-21T17:50:39.504741Z"
    }
   },
   "cell_type": "code",
   "source": "config",
   "id": "3d23d2747b36a243",
   "outputs": [
    {
     "data": {
      "text/plain": [
       "                 cpu                    motherboard               gpu  \\\n",
       "0  AMD Ryzen 7 5800X  ASRock A520M Phantom Gaming 4  GeForce RTX 3070   \n",
       "\n",
       "                           ram                psu    type    price  \n",
       "0  Kingston KVR13N9K3/24 24 GB  SeaSonic FOCUS GX  Gaming  1443.94  "
      ],
      "text/html": [
       "<div>\n",
       "<style scoped>\n",
       "    .dataframe tbody tr th:only-of-type {\n",
       "        vertical-align: middle;\n",
       "    }\n",
       "\n",
       "    .dataframe tbody tr th {\n",
       "        vertical-align: top;\n",
       "    }\n",
       "\n",
       "    .dataframe thead th {\n",
       "        text-align: right;\n",
       "    }\n",
       "</style>\n",
       "<table border=\"1\" class=\"dataframe\">\n",
       "  <thead>\n",
       "    <tr style=\"text-align: right;\">\n",
       "      <th></th>\n",
       "      <th>cpu</th>\n",
       "      <th>motherboard</th>\n",
       "      <th>gpu</th>\n",
       "      <th>ram</th>\n",
       "      <th>psu</th>\n",
       "      <th>type</th>\n",
       "      <th>price</th>\n",
       "    </tr>\n",
       "  </thead>\n",
       "  <tbody>\n",
       "    <tr>\n",
       "      <th>0</th>\n",
       "      <td>AMD Ryzen 7 5800X</td>\n",
       "      <td>ASRock A520M Phantom Gaming 4</td>\n",
       "      <td>GeForce RTX 3070</td>\n",
       "      <td>Kingston KVR13N9K3/24 24 GB</td>\n",
       "      <td>SeaSonic FOCUS GX</td>\n",
       "      <td>Gaming</td>\n",
       "      <td>1443.94</td>\n",
       "    </tr>\n",
       "  </tbody>\n",
       "</table>\n",
       "</div>"
      ]
     },
     "execution_count": 35,
     "metadata": {},
     "output_type": "execute_result"
    }
   ],
   "execution_count": 35
  },
  {
   "metadata": {},
   "cell_type": "code",
   "outputs": [],
   "execution_count": null,
   "source": "",
   "id": "dcb9235ed99cf526"
  }
 ],
 "metadata": {
  "kernelspec": {
   "display_name": "Python 3",
   "language": "python",
   "name": "python3"
  },
  "language_info": {
   "codemirror_mode": {
    "name": "ipython",
    "version": 2
   },
   "file_extension": ".py",
   "mimetype": "text/x-python",
   "name": "python",
   "nbconvert_exporter": "python",
   "pygments_lexer": "ipython2",
   "version": "2.7.6"
  }
 },
 "nbformat": 4,
 "nbformat_minor": 5
}
