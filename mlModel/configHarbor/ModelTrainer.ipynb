{
 "cells": [
  {
   "cell_type": "code",
   "id": "initial_id",
   "metadata": {
    "collapsed": true,
    "ExecuteTime": {
     "end_time": "2024-05-21T16:26:32.598968Z",
     "start_time": "2024-05-21T16:26:22.253175Z"
    }
   },
   "source": [
    "import joblib\n",
    "import pandas as pd\n",
    "import numpy as np\n",
    "from sklearn.model_selection import train_test_split\n",
    "from sklearn.ensemble import RandomForestRegressor\n",
    "from sklearn.metrics import mean_squared_error\n",
    "from sklearn.preprocessing import LabelEncoder\n",
    "import random as rd"
   ],
   "outputs": [],
   "execution_count": 2
  },
  {
   "metadata": {
    "ExecuteTime": {
     "end_time": "2024-05-16T07:52:18.723369Z",
     "start_time": "2024-05-16T07:52:18.645275Z"
    }
   },
   "cell_type": "code",
   "source": [
    "file_path = \"CPU.csv\"\n",
    "\n",
    "cpu_df = pd.read_csv(file_path)\n",
    "\n",
    "cpu_df = cpu_df.dropna()\n",
    "cpu_df = cpu_df[cpu_df['category'] == 'Desktop']\n",
    "cpu_df = cpu_df[cpu_df['testDate'].astype(int) >= 2017]"
   ],
   "id": "b589208407a00123",
   "outputs": [],
   "execution_count": 6
  },
  {
   "metadata": {},
   "cell_type": "code",
   "outputs": [],
   "execution_count": null,
   "source": "",
   "id": "5e4d164e5ceaf69e"
  },
  {
   "metadata": {
    "ExecuteTime": {
     "end_time": "2024-05-16T09:50:06.570313Z",
     "start_time": "2024-05-16T09:50:06.551158Z"
    }
   },
   "cell_type": "code",
   "source": "print(cpu_df.head(20))",
   "id": "f62a4088569758ff",
   "outputs": [
    {
     "name": "stdout",
     "output_type": "stream",
     "text": [
      "                              cpuName    price  cpuMark  cpuValue  threadMark  \\\n",
      "4   AMD Ryzen Threadripper PRO 3995WX  6807.98    83971     12.33        2626   \n",
      "5        AMD Ryzen Threadripper 3990X  8399.69    81568      9.71        2569   \n",
      "17       AMD Ryzen Threadripper 3970X  2997.99    63835     21.29        2694   \n",
      "18  AMD Ryzen Threadripper PRO 3975WX  4499.99    63495     14.11        2666   \n",
      "27       AMD Ryzen Threadripper 3960X  1682.90    54757     32.54        2678   \n",
      "39                  AMD Ryzen 9 5950X   649.74    46195     71.10        3498   \n",
      "44              Intel Core i9-12900KS   779.98    44243     56.72        4317   \n",
      "53              Intel Core i9-12900KF   572.98    41163     71.84        4217   \n",
      "54               Intel Core i9-12900K   599.95    41077     68.47        4209   \n",
      "61  AMD Ryzen Threadripper PRO 3955WX  1995.00    40225     20.16        2696   \n",
      "63                  AMD Ryzen 9 5900X   393.03    39457    100.39        3494   \n",
      "64                  AMD Ryzen 9 3950X   650.00    39157     60.24        2738   \n",
      "67                Intel Core i9-12900   509.00    38281     75.21        4162   \n",
      "74       Intel Xeon W-3175X @ 3.10GHz  1595.96    37167     23.29        2148   \n",
      "75               Intel Core i9-12900F   529.99    35726     67.41        4045   \n",
      "78               Intel Core i9-12900T   489.00    34999     71.57        4032   \n",
      "80               Intel Core i7-12700K   409.00    34125     83.44        4047   \n",
      "81              Intel Core i7-12700KF   350.99    34110     97.18        4054   \n",
      "85    Intel Core i9-10980XE @ 3.00GHz   999.99    33408     33.41        2667   \n",
      "88                 AMD Ryzen 9 3900XT   618.77    32869     53.12        2786   \n",
      "\n",
      "    threadValue    TDP powerPerf  cores  testDate   socket category  \n",
      "4          0.39  280.0     299.9     64      2020    sWRX8  Desktop  \n",
      "5          0.31  280.0    291.31     64      2020    sTRX4  Desktop  \n",
      "17         0.90  280.0    227.98     32      2019    sTRX4  Desktop  \n",
      "18         0.59  280.0    226.77     32      2020    sWRX8  Desktop  \n",
      "27         1.59  280.0    195.56     24      2019    sTRX4  Desktop  \n",
      "39         5.38  105.0    439.96     16      2020      AM4  Desktop  \n",
      "44         5.53  150.0    294.95      8      2022  LGA1700  Desktop  \n",
      "53         7.36  241.0     170.8      8      2021  LGA1700  Desktop  \n",
      "54         7.02  241.0    170.44      8      2021  LGA1700  Desktop  \n",
      "61         1.35  280.0    143.66     16      2020    sWRX8  Desktop  \n",
      "63         8.89  105.0    375.78     12      2020      AM4  Desktop  \n",
      "64         4.21  105.0    372.92     16      2019      AM4  Desktop  \n",
      "67         8.18   65.0    588.95      8      2022  LGA1700  Desktop  \n",
      "74         1.35  255.0    145.75     28      2019  LGA3647  Desktop  \n",
      "75         7.63   65.0    549.63      8      2022  LGA1700  Desktop  \n",
      "78         8.25   35.0    999.97      8      2022  LGA1700  Desktop  \n",
      "80         9.90  190.0    179.61      8      2021  LGA1700  Desktop  \n",
      "81        11.55  190.0    179.53      8      2021  LGA1700  Desktop  \n",
      "85         2.67  165.0    202.47     18      2019  LGA2066  Desktop  \n",
      "88         4.50  105.0    313.04     12      2020      AM4  Desktop  \n"
     ]
    }
   ],
   "execution_count": 14
  },
  {
   "metadata": {
    "ExecuteTime": {
     "end_time": "2024-05-16T09:50:07.645463Z",
     "start_time": "2024-05-16T09:50:07.624888Z"
    }
   },
   "cell_type": "code",
   "source": "print(cpu_df.shape)",
   "id": "91129171baa634be",
   "outputs": [
    {
     "name": "stdout",
     "output_type": "stream",
     "text": [
      "(270, 12)\n"
     ]
    }
   ],
   "execution_count": 15
  },
  {
   "metadata": {
    "ExecuteTime": {
     "end_time": "2024-05-16T09:50:08.695067Z",
     "start_time": "2024-05-16T09:50:08.684847Z"
    }
   },
   "cell_type": "code",
   "source": "print(cpu_df.columns)",
   "id": "21570f80b21db852",
   "outputs": [
    {
     "name": "stdout",
     "output_type": "stream",
     "text": [
      "Index(['cpuName', 'price', 'cpuMark', 'cpuValue', 'threadMark', 'threadValue',\n",
      "       'TDP', 'powerPerf', 'cores', 'testDate', 'socket', 'category'],\n",
      "      dtype='object')\n"
     ]
    }
   ],
   "execution_count": 16
  },
  {
   "metadata": {
    "ExecuteTime": {
     "end_time": "2024-05-16T09:50:09.896353Z",
     "start_time": "2024-05-16T09:50:09.883151Z"
    }
   },
   "cell_type": "code",
   "source": "cpu_df.to_csv(\"cpu_v1.csv\", index=False)",
   "id": "ccb1319c694c78c",
   "outputs": [],
   "execution_count": 17
  },
  {
   "metadata": {
    "ExecuteTime": {
     "end_time": "2024-05-17T18:19:37.229683Z",
     "start_time": "2024-05-17T18:19:37.208169Z"
    }
   },
   "cell_type": "code",
   "source": [
    "file_path = \"mb_v1.csv\"\n",
    "\n",
    "mb_df = pd.read_csv(file_path)\n",
    "mb_df = mb_df.dropna()"
   ],
   "id": "5b1b93d7970e56ac",
   "outputs": [],
   "execution_count": 155
  },
  {
   "metadata": {
    "ExecuteTime": {
     "end_time": "2024-05-17T18:19:38.029147Z",
     "start_time": "2024-05-17T18:19:38.016473Z"
    }
   },
   "cell_type": "code",
   "source": "print(mb_df.head(10))",
   "id": "1c7b66e4de8883d2",
   "outputs": [
    {
     "name": "stdout",
     "output_type": "stream",
     "text": [
      "                              name   price   socket form_factor  max_memory  \\\n",
      "0            MSI MAG B550 TOMAHAWK  169.99      AM4         ATX         128   \n",
      "1                   MSI B550-A PRO  139.99      AM4         ATX         128   \n",
      "2           MSI B550M PRO-VDH WIFI  119.99      AM4   Micro ATX         128   \n",
      "3     Gigabyte Z790 AORUS ELITE AX  239.99  LGA1700         ATX         128   \n",
      "4            Asus Prime B450M-A II   79.99      AM4   Micro ATX         128   \n",
      "5  MSI MAG B660 TOMAHAWK WIFI DDR4  189.99  LGA1700         ATX         128   \n",
      "6     Gigabyte B650 AORUS ELITE AX  202.30      AM5         ATX         128   \n",
      "7     Asus ROG STRIX B550-A GAMING  169.99      AM4         ATX         128   \n",
      "8       MSI MAG Z790 TOMAHAWK WIFI  276.79  LGA1700         ATX         192   \n",
      "9       MSI MAG B650 TOMAHAWK WIFI  219.95      AM5         ATX         128   \n",
      "\n",
      "   memory_slots  \n",
      "0             4  \n",
      "1             4  \n",
      "2             4  \n",
      "3             4  \n",
      "4             4  \n",
      "5             4  \n",
      "6             4  \n",
      "7             4  \n",
      "8             4  \n",
      "9             4  \n"
     ]
    }
   ],
   "execution_count": 156
  },
  {
   "metadata": {
    "ExecuteTime": {
     "end_time": "2024-05-17T18:19:40.025578Z",
     "start_time": "2024-05-17T18:19:40.000013Z"
    }
   },
   "cell_type": "code",
   "source": "mb_df.to_csv(\"mb_v1.csv\", index=False)",
   "id": "a6516345ec8a4fa8",
   "outputs": [],
   "execution_count": 157
  },
  {
   "metadata": {
    "ExecuteTime": {
     "end_time": "2024-05-16T12:02:56.772830Z",
     "start_time": "2024-05-16T12:02:56.736692Z"
    }
   },
   "cell_type": "code",
   "source": [
    "file_path = \"GPU.csv\"\n",
    "\n",
    "gpu_df = pd.read_csv(file_path)\n",
    "gpu_df = gpu_df.dropna()\n",
    "gpu_df = gpu_df[gpu_df['category'] == 'Desktop']\n",
    "gpu_df = gpu_df[gpu_df['testDate'].astype(int) >= 2017]"
   ],
   "id": "bd17364b5431a6f4",
   "outputs": [],
   "execution_count": 24
  },
  {
   "metadata": {
    "ExecuteTime": {
     "end_time": "2024-05-16T12:03:56.009579Z",
     "start_time": "2024-05-16T12:03:55.990517Z"
    }
   },
   "cell_type": "code",
   "source": "print(gpu_df.head(40))",
   "id": "d58ff8d49c0136ae",
   "outputs": [
    {
     "name": "stdout",
     "output_type": "stream",
     "text": [
      "                          gpuName  G3Dmark  G2Dmark    price  gpuValue    TDP  \\\n",
      "1             GeForce RTX 3080 Ti    26887     1031  1199.99     22.41  350.0   \n",
      "2                GeForce RTX 3090    26395      999  1749.99     15.08  350.0   \n",
      "3               Radeon RX 6900 XT    25458     1102  1120.31     22.72  300.0   \n",
      "4                GeForce RTX 3080    24853     1003   999.00     24.88  320.0   \n",
      "5             GeForce RTX 3070 Ti    23367     1003   749.99     31.16  290.0   \n",
      "6               Radeon RX 6800 XT    23364     1078   859.00     27.20  300.0   \n",
      "9                GeForce RTX 3070    22093      969   719.99     30.69  220.0   \n",
      "10            GeForce RTX 2080 Ti    21796      940   998.59     21.83  250.0   \n",
      "12                 Radeon RX 6800    20667     1030   758.99     27.23  250.0   \n",
      "13            GeForce RTX 3060 Ti    20206      961   599.99     33.68  200.0   \n",
      "16         GeForce RTX 2080 SUPER    19519      934   683.99     28.54  250.0   \n",
      "20              Radeon RX 6700 XT    18993     1014   529.99     35.84  230.0   \n",
      "22                        TITAN V    18816      845  1999.99      9.41  250.0   \n",
      "24               GeForce RTX 2080    18732      917   633.03     29.59  250.0   \n",
      "27            GeForce GTX 1080 Ti    18284      934   604.15     30.26  250.0   \n",
      "28                NVIDIA TITAN Xp    18280      812  1645.00     11.11  250.0   \n",
      "29         GeForce RTX 2070 SUPER    18168      896   613.80     29.60  215.0   \n",
      "32               GeForce RTX 3060    16958      951   329.00     51.55  170.0   \n",
      "33              Radeon RX 5700 XT    16892      955   694.94     24.31  225.0   \n",
      "35                     Radeon VII    16767      788  1899.95      8.82  300.0   \n",
      "38         GeForce RTX 2060 SUPER    16514      881   528.89     31.22  175.0   \n",
      "44               GeForce RTX 2070    16079      833   627.44     25.63  175.0   \n",
      "47              Radeon RX 6600 XT    15853     1003   399.99     39.63  160.0   \n",
      "53               Radeon Pro W5700    15085      908  1649.99      9.14  205.0   \n",
      "56                 Radeon RX 5700    14729      926   899.95     16.37  180.0   \n",
      "57              Radeon RX Vega 64    14636      810   799.99     18.30  295.0   \n",
      "59            GeForce GTX 1070 Ti    14500      877   389.00     37.28  180.0   \n",
      "62             Radeon Pro WX 8200    14110      824  1599.39      8.82  230.0   \n",
      "64               GeForce RTX 2060    13953      752   389.99     35.78  160.0   \n",
      "68              Radeon RX 5600 XT    13836      914   545.00     25.39  150.0   \n",
      "69   Radeon Vega Frontier Edition    13748      753  1679.99      8.18  350.0   \n",
      "73              Radeon RX Vega 56    13636      784   752.99     18.11  210.0   \n",
      "83         GeForce GTX 1660 SUPER    12732      823   329.99     38.58  125.0   \n",
      "98            GeForce GTX 1660 Ti    11794      702   349.99     33.70  120.0   \n",
      "99               GeForce GTX 1660    11695      796   399.99     29.24  120.0   \n",
      "120        GeForce GTX 1650 SUPER    10032      761   441.05     22.75  100.0   \n",
      "128                 Radeon RX 590     9665      810   549.99     17.57  175.0   \n",
      "136              Radeon Pro W5500     9269      896   480.99     19.27  125.0   \n",
      "140             Radeon RX 5500 XT     9188      824   449.00     20.46  130.0   \n",
      "147                 Radeon RX 580     8907      772   349.00     25.52  185.0   \n",
      "\n",
      "     powerPerformance  testDate category  \n",
      "1               76.82      2021  Desktop  \n",
      "2               75.41      2020  Desktop  \n",
      "3               84.86      2020  Desktop  \n",
      "4               77.66      2020  Desktop  \n",
      "5               80.58      2021  Desktop  \n",
      "6               77.88      2020  Desktop  \n",
      "9              100.42      2020  Desktop  \n",
      "10              87.18      2018  Desktop  \n",
      "12              82.67      2020  Desktop  \n",
      "13             101.03      2020  Desktop  \n",
      "16              78.08      2019  Desktop  \n",
      "20              82.58      2021  Desktop  \n",
      "22              75.26      2017  Desktop  \n",
      "24              74.93      2018  Desktop  \n",
      "27              73.14      2017  Desktop  \n",
      "28              73.12      2017  Desktop  \n",
      "29              84.50      2019  Desktop  \n",
      "32              99.76      2021  Desktop  \n",
      "33              75.08      2019  Desktop  \n",
      "35              55.89      2019  Desktop  \n",
      "38              94.37      2019  Desktop  \n",
      "44              91.88      2018  Desktop  \n",
      "47              99.08      2021  Desktop  \n",
      "53              73.59      2020  Desktop  \n",
      "56              81.83      2019  Desktop  \n",
      "57              49.62      2017  Desktop  \n",
      "59              80.56      2017  Desktop  \n",
      "62              61.35      2018  Desktop  \n",
      "64              87.20      2019  Desktop  \n",
      "68              92.24      2020  Desktop  \n",
      "69              39.28      2017  Desktop  \n",
      "73              64.93      2017  Desktop  \n",
      "83             101.85      2019  Desktop  \n",
      "98              98.29      2019  Desktop  \n",
      "99              97.46      2019  Desktop  \n",
      "120            100.32      2019  Desktop  \n",
      "128             55.23      2018  Desktop  \n",
      "136             74.15      2020  Desktop  \n",
      "140             70.68      2019  Desktop  \n",
      "147             48.14      2017  Desktop  \n"
     ]
    }
   ],
   "execution_count": 29
  },
  {
   "metadata": {
    "ExecuteTime": {
     "end_time": "2024-05-16T12:03:48.235100Z",
     "start_time": "2024-05-16T12:03:48.224340Z"
    }
   },
   "cell_type": "code",
   "source": "print(gpu_df.shape)",
   "id": "cd6dec931c5d4ac1",
   "outputs": [
    {
     "name": "stdout",
     "output_type": "stream",
     "text": [
      "(48, 9)\n"
     ]
    }
   ],
   "execution_count": 28
  },
  {
   "metadata": {
    "ExecuteTime": {
     "end_time": "2024-05-16T12:04:30.466575Z",
     "start_time": "2024-05-16T12:04:30.454999Z"
    }
   },
   "cell_type": "code",
   "source": "gpu_df.to_csv(\"gpu_v1.csv\", index=False)",
   "id": "14eb17165b1a2857",
   "outputs": [],
   "execution_count": 30
  },
  {
   "metadata": {},
   "cell_type": "code",
   "outputs": [],
   "execution_count": null,
   "source": "",
   "id": "116bd5c292df4cf6"
  },
  {
   "metadata": {
    "ExecuteTime": {
     "end_time": "2024-05-17T18:25:21.883903Z",
     "start_time": "2024-05-17T18:25:21.877491Z"
    }
   },
   "cell_type": "code",
   "source": [
    "def transform_number(x, old_min, old_max, new_min, new_max):\n",
    "    # print(((x - old_min) * (new_max - new_min) / (old_max - old_min) + new_min))\n",
    "    return ((x - old_min) * (new_max - new_min) / (old_max - old_min) + new_min) * 100\n",
    "\n",
    "pc_types = ['Gaming', 'Professional', 'Office', 'Multimedia', 'All-in-One']"
   ],
   "id": "63fddeb0b792b730",
   "outputs": [],
   "execution_count": 183
  },
  {
   "metadata": {
    "ExecuteTime": {
     "end_time": "2024-05-17T18:19:47.385227Z",
     "start_time": "2024-05-17T18:19:47.346331Z"
    }
   },
   "cell_type": "code",
   "source": [
    "cpu_df = pd.read_csv(\"cpu_v1.csv\")\n",
    "mb_df = pd.read_csv(\"mb_v1.csv\")\n",
    "gpu_df = pd.read_csv(\"gpu_v1.csv\")"
   ],
   "id": "73663104c3e13890",
   "outputs": [],
   "execution_count": 158
  },
  {
   "metadata": {
    "ExecuteTime": {
     "end_time": "2024-05-17T18:19:51.773339Z",
     "start_time": "2024-05-17T18:19:51.763412Z"
    }
   },
   "cell_type": "code",
   "source": "cpu_df = cpu_df[cpu_df['socket'].isin(mb_df['socket'].unique())]",
   "id": "ba0fb9b05d3411a3",
   "outputs": [],
   "execution_count": 159
  },
  {
   "metadata": {
    "ExecuteTime": {
     "end_time": "2024-05-18T10:44:58.158628Z",
     "start_time": "2024-05-18T10:44:58.127794Z"
    }
   },
   "cell_type": "code",
   "source": [
    "def generate_configurations(num_configurations):\n",
    "    configurations = []\n",
    "    for _ in range(num_configurations):\n",
    "        cpu = cpu_df.sample(1).iloc[0]        \n",
    "        motherboard = mb_df[mb_df['socket'] == cpu['socket']].sample(1).iloc[0]\n",
    "        gpu = gpu_df.sample(1).iloc[0]\n",
    "        \n",
    "        random_index = rd.randrange(len(pc_types))\n",
    "        pc_type = pc_types[random_index]\n",
    "        rating = 0\n",
    "        \n",
    "        price = (gpu['price'] + gpu['price'] + motherboard['price'])\n",
    "        \n",
    "        if pc_type == 'Gaming':\n",
    "            rating = ((transform_number(gpu['G3Dmark'],1,29000,1,100) + \n",
    "                      transform_number(cpu['cpuMark'],1,109000,1,100) +\n",
    "                      transform_number(cpu['threadMark'],1,4500,1,100))) / 3 / price\n",
    "\n",
    "        elif pc_type == 'Professional':\n",
    "            rating = ((transform_number(gpu['G3Dmark'],1,29000,1,100) + \n",
    "                      transform_number(gpu['G2Dmark'],1,1200,1,100))) / 2 / price\n",
    "        elif pc_type == 'Office':\n",
    "            rating = (transform_number(gpu['G2Dmark'],1,1200,1,100) +\n",
    "                      transform_number(cpu['threadMark'],1,4500,1,100)) / 2 / price\n",
    "        elif pc_type == 'Multimedia':\n",
    "            rating = (transform_number(gpu['G2Dmark'],1,1200,1,1000) +\n",
    "                      transform_number(cpu['cpuMark'],1,109000,1,100)) / 2 /  price\n",
    "        else:\n",
    "            rating = ((transform_number(gpu['G3Dmark'],1,29000,1,100) + \n",
    "                      transform_number(gpu['G2Dmark'],1,1200,1,100) +\n",
    "                      transform_number(cpu['cpuMark'],1,109000,1,100) +\n",
    "                      transform_number(cpu['threadMark'],1,4500,1,100))) / 4 / price\n",
    "        \n",
    "        rating = rating * rd.uniform(0.5, 1.5)   \n",
    "        configurations.append({'cpu': cpu['cpuName'], 'motherboard': motherboard['name'], 'gpu': gpu['gpuName'], \n",
    "                               # 'gpu_3d' : gpu['G3Dmark'],\n",
    "                               # 'gpu_2d' : gpu['G2Dmark'],\n",
    "                               # 'cpu_st' : cpu['cpuMark'],\n",
    "                               # 'cpu_mt' : cpu['threadMark'],\n",
    "                               'price' : price, 'type': pc_type,'rating': rating})\n",
    "    return configurations"
   ],
   "id": "8766b0bd7d28e07a",
   "outputs": [],
   "execution_count": 214
  },
  {
   "metadata": {
    "ExecuteTime": {
     "end_time": "2024-05-18T10:45:01.384775Z",
     "start_time": "2024-05-18T10:44:58.976770Z"
    }
   },
   "cell_type": "code",
   "source": "configurations = generate_configurations(1000)",
   "id": "3cf52b2704e89bf4",
   "outputs": [],
   "execution_count": 215
  },
  {
   "metadata": {
    "ExecuteTime": {
     "end_time": "2024-05-18T10:45:01.396471Z",
     "start_time": "2024-05-18T10:45:01.385613Z"
    }
   },
   "cell_type": "code",
   "source": "configurations_df = pd.DataFrame(configurations)",
   "id": "bff3b6ad9145ca5d",
   "outputs": [],
   "execution_count": 216
  },
  {
   "metadata": {
    "ExecuteTime": {
     "end_time": "2024-05-18T10:45:01.427400Z",
     "start_time": "2024-05-18T10:45:01.396471Z"
    }
   },
   "cell_type": "code",
   "source": "configurations_df.describe()",
   "id": "387e7844f4dcede9",
   "outputs": [
    {
     "data": {
      "text/plain": [
       "             price       rating\n",
       "count  1000.000000  1000.000000\n",
       "mean   1856.399300     7.954298\n",
       "std    1027.594987    10.534346\n",
       "min     283.970000     0.496626\n",
       "25%    1114.700000     2.279459\n",
       "50%    1538.185000     3.809487\n",
       "75%    2325.480000     7.562777\n",
       "max    5835.550000    63.130971"
      ],
      "text/html": [
       "<div>\n",
       "<style scoped>\n",
       "    .dataframe tbody tr th:only-of-type {\n",
       "        vertical-align: middle;\n",
       "    }\n",
       "\n",
       "    .dataframe tbody tr th {\n",
       "        vertical-align: top;\n",
       "    }\n",
       "\n",
       "    .dataframe thead th {\n",
       "        text-align: right;\n",
       "    }\n",
       "</style>\n",
       "<table border=\"1\" class=\"dataframe\">\n",
       "  <thead>\n",
       "    <tr style=\"text-align: right;\">\n",
       "      <th></th>\n",
       "      <th>price</th>\n",
       "      <th>rating</th>\n",
       "    </tr>\n",
       "  </thead>\n",
       "  <tbody>\n",
       "    <tr>\n",
       "      <th>count</th>\n",
       "      <td>1000.000000</td>\n",
       "      <td>1000.000000</td>\n",
       "    </tr>\n",
       "    <tr>\n",
       "      <th>mean</th>\n",
       "      <td>1856.399300</td>\n",
       "      <td>7.954298</td>\n",
       "    </tr>\n",
       "    <tr>\n",
       "      <th>std</th>\n",
       "      <td>1027.594987</td>\n",
       "      <td>10.534346</td>\n",
       "    </tr>\n",
       "    <tr>\n",
       "      <th>min</th>\n",
       "      <td>283.970000</td>\n",
       "      <td>0.496626</td>\n",
       "    </tr>\n",
       "    <tr>\n",
       "      <th>25%</th>\n",
       "      <td>1114.700000</td>\n",
       "      <td>2.279459</td>\n",
       "    </tr>\n",
       "    <tr>\n",
       "      <th>50%</th>\n",
       "      <td>1538.185000</td>\n",
       "      <td>3.809487</td>\n",
       "    </tr>\n",
       "    <tr>\n",
       "      <th>75%</th>\n",
       "      <td>2325.480000</td>\n",
       "      <td>7.562777</td>\n",
       "    </tr>\n",
       "    <tr>\n",
       "      <th>max</th>\n",
       "      <td>5835.550000</td>\n",
       "      <td>63.130971</td>\n",
       "    </tr>\n",
       "  </tbody>\n",
       "</table>\n",
       "</div>"
      ]
     },
     "execution_count": 217,
     "metadata": {},
     "output_type": "execute_result"
    }
   ],
   "execution_count": 217
  },
  {
   "metadata": {
    "ExecuteTime": {
     "end_time": "2024-05-18T14:02:08.126881Z",
     "start_time": "2024-05-18T14:02:08.109710Z"
    }
   },
   "cell_type": "code",
   "source": "print(configurations_df.head())",
   "id": "30e32f4209b84076",
   "outputs": [
    {
     "name": "stdout",
     "output_type": "stream",
     "text": [
      "                              cpu                     motherboard  \\\n",
      "0             Intel Core i9-12900        Asus PRIME Z690M-PLUS D4   \n",
      "1   Intel Core i5-10600 @ 3.30GHz        ASRock Z590 Steel Legend   \n",
      "2            Intel Core i5-12500T        Asus PRIME B660M-A AC D4   \n",
      "3  Intel Core i5-11500T @ 1.50GHz       ASRock B460M Steel Legend   \n",
      "4             Intel Core i5-12500  Asus TUF GAMING Z690-PLUS WIFI   \n",
      "\n",
      "                   gpu    price          type     rating  \n",
      "0        Radeon RX 550   537.63  Professional   7.045596  \n",
      "1    Radeon RX 6800 XT  1832.50    Multimedia  22.892680  \n",
      "2        Radeon RX 580   847.99  Professional   3.107432  \n",
      "3     GeForce GTX 1650   620.24        Office  11.394660  \n",
      "4  GeForce RTX 2080 Ti  2164.17  Professional   2.311534  \n"
     ]
    }
   ],
   "execution_count": 252
  },
  {
   "metadata": {
    "ExecuteTime": {
     "end_time": "2024-05-18T14:31:40.331265Z",
     "start_time": "2024-05-18T14:31:40.306810Z"
    }
   },
   "cell_type": "code",
   "source": "configurations_df.to_csv(\"pc_v1.csv\", index=False)",
   "id": "6cb531bcd25f45f8",
   "outputs": [],
   "execution_count": 330
  },
  {
   "metadata": {},
   "cell_type": "code",
   "outputs": [],
   "execution_count": null,
   "source": "",
   "id": "b14045f36dda8fb4"
  },
  {
   "metadata": {
    "ExecuteTime": {
     "end_time": "2024-05-18T15:49:49.440387Z",
     "start_time": "2024-05-18T15:49:49.412415Z"
    }
   },
   "cell_type": "code",
   "source": "data = pd.read_csv(\"pc_v1.csv\")",
   "id": "8c76196e4e5443fb",
   "outputs": [],
   "execution_count": 353
  },
  {
   "metadata": {
    "ExecuteTime": {
     "end_time": "2024-05-18T14:24:27.399456Z",
     "start_time": "2024-05-18T14:24:27.387281Z"
    }
   },
   "cell_type": "code",
   "source": [
    "label_encoder = LabelEncoder()\n",
    "data['cpu'] = label_encoder.fit_transform(data['cpu'])\n",
    "data['motherboard'] = label_encoder.fit_transform(data['motherboard'])\n",
    "data['gpu'] = label_encoder.fit_transform(data['gpu'])\n",
    "data['type'] = label_encoder.fit_transform(data['type'])"
   ],
   "id": "89abae22876428b7",
   "outputs": [],
   "execution_count": 315
  },
  {
   "metadata": {
    "ExecuteTime": {
     "end_time": "2024-05-18T14:24:27.409019Z",
     "start_time": "2024-05-18T14:24:27.399456Z"
    }
   },
   "cell_type": "code",
   "source": [
    "X = data.drop('rating', axis=1)\n",
    "y = data['rating']"
   ],
   "id": "112457a329261c95",
   "outputs": [],
   "execution_count": 316
  },
  {
   "metadata": {
    "ExecuteTime": {
     "end_time": "2024-05-18T14:24:50.664967Z",
     "start_time": "2024-05-18T14:24:50.645877Z"
    }
   },
   "cell_type": "code",
   "source": "X_train, X_test, y_train, y_test = train_test_split(X, y, test_size=0.2, random_state=42)",
   "id": "2c38103e77b7d3e6",
   "outputs": [],
   "execution_count": 317
  },
  {
   "metadata": {
    "ExecuteTime": {
     "end_time": "2024-05-18T14:24:51.941291Z",
     "start_time": "2024-05-18T14:24:51.278604Z"
    }
   },
   "cell_type": "code",
   "source": [
    "model = RandomForestRegressor(n_estimators=100, random_state=42)\n",
    "model.fit(X_train, y_train)"
   ],
   "id": "28f3a4ae98480d08",
   "outputs": [
    {
     "data": {
      "text/plain": [
       "RandomForestRegressor(random_state=42)"
      ],
      "text/html": [
       "<style>#sk-container-id-7 {\n",
       "  /* Definition of color scheme common for light and dark mode */\n",
       "  --sklearn-color-text: black;\n",
       "  --sklearn-color-line: gray;\n",
       "  /* Definition of color scheme for unfitted estimators */\n",
       "  --sklearn-color-unfitted-level-0: #fff5e6;\n",
       "  --sklearn-color-unfitted-level-1: #f6e4d2;\n",
       "  --sklearn-color-unfitted-level-2: #ffe0b3;\n",
       "  --sklearn-color-unfitted-level-3: chocolate;\n",
       "  /* Definition of color scheme for fitted estimators */\n",
       "  --sklearn-color-fitted-level-0: #f0f8ff;\n",
       "  --sklearn-color-fitted-level-1: #d4ebff;\n",
       "  --sklearn-color-fitted-level-2: #b3dbfd;\n",
       "  --sklearn-color-fitted-level-3: cornflowerblue;\n",
       "\n",
       "  /* Specific color for light theme */\n",
       "  --sklearn-color-text-on-default-background: var(--sg-text-color, var(--theme-code-foreground, var(--jp-content-font-color1, black)));\n",
       "  --sklearn-color-background: var(--sg-background-color, var(--theme-background, var(--jp-layout-color0, white)));\n",
       "  --sklearn-color-border-box: var(--sg-text-color, var(--theme-code-foreground, var(--jp-content-font-color1, black)));\n",
       "  --sklearn-color-icon: #696969;\n",
       "\n",
       "  @media (prefers-color-scheme: dark) {\n",
       "    /* Redefinition of color scheme for dark theme */\n",
       "    --sklearn-color-text-on-default-background: var(--sg-text-color, var(--theme-code-foreground, var(--jp-content-font-color1, white)));\n",
       "    --sklearn-color-background: var(--sg-background-color, var(--theme-background, var(--jp-layout-color0, #111)));\n",
       "    --sklearn-color-border-box: var(--sg-text-color, var(--theme-code-foreground, var(--jp-content-font-color1, white)));\n",
       "    --sklearn-color-icon: #878787;\n",
       "  }\n",
       "}\n",
       "\n",
       "#sk-container-id-7 {\n",
       "  color: var(--sklearn-color-text);\n",
       "}\n",
       "\n",
       "#sk-container-id-7 pre {\n",
       "  padding: 0;\n",
       "}\n",
       "\n",
       "#sk-container-id-7 input.sk-hidden--visually {\n",
       "  border: 0;\n",
       "  clip: rect(1px 1px 1px 1px);\n",
       "  clip: rect(1px, 1px, 1px, 1px);\n",
       "  height: 1px;\n",
       "  margin: -1px;\n",
       "  overflow: hidden;\n",
       "  padding: 0;\n",
       "  position: absolute;\n",
       "  width: 1px;\n",
       "}\n",
       "\n",
       "#sk-container-id-7 div.sk-dashed-wrapped {\n",
       "  border: 1px dashed var(--sklearn-color-line);\n",
       "  margin: 0 0.4em 0.5em 0.4em;\n",
       "  box-sizing: border-box;\n",
       "  padding-bottom: 0.4em;\n",
       "  background-color: var(--sklearn-color-background);\n",
       "}\n",
       "\n",
       "#sk-container-id-7 div.sk-container {\n",
       "  /* jupyter's `normalize.less` sets `[hidden] { display: none; }`\n",
       "     but bootstrap.min.css set `[hidden] { display: none !important; }`\n",
       "     so we also need the `!important` here to be able to override the\n",
       "     default hidden behavior on the sphinx rendered scikit-learn.org.\n",
       "     See: https://github.com/scikit-learn/scikit-learn/issues/21755 */\n",
       "  display: inline-block !important;\n",
       "  position: relative;\n",
       "}\n",
       "\n",
       "#sk-container-id-7 div.sk-text-repr-fallback {\n",
       "  display: none;\n",
       "}\n",
       "\n",
       "div.sk-parallel-item,\n",
       "div.sk-serial,\n",
       "div.sk-item {\n",
       "  /* draw centered vertical line to link estimators */\n",
       "  background-image: linear-gradient(var(--sklearn-color-text-on-default-background), var(--sklearn-color-text-on-default-background));\n",
       "  background-size: 2px 100%;\n",
       "  background-repeat: no-repeat;\n",
       "  background-position: center center;\n",
       "}\n",
       "\n",
       "/* Parallel-specific style estimator block */\n",
       "\n",
       "#sk-container-id-7 div.sk-parallel-item::after {\n",
       "  content: \"\";\n",
       "  width: 100%;\n",
       "  border-bottom: 2px solid var(--sklearn-color-text-on-default-background);\n",
       "  flex-grow: 1;\n",
       "}\n",
       "\n",
       "#sk-container-id-7 div.sk-parallel {\n",
       "  display: flex;\n",
       "  align-items: stretch;\n",
       "  justify-content: center;\n",
       "  background-color: var(--sklearn-color-background);\n",
       "  position: relative;\n",
       "}\n",
       "\n",
       "#sk-container-id-7 div.sk-parallel-item {\n",
       "  display: flex;\n",
       "  flex-direction: column;\n",
       "}\n",
       "\n",
       "#sk-container-id-7 div.sk-parallel-item:first-child::after {\n",
       "  align-self: flex-end;\n",
       "  width: 50%;\n",
       "}\n",
       "\n",
       "#sk-container-id-7 div.sk-parallel-item:last-child::after {\n",
       "  align-self: flex-start;\n",
       "  width: 50%;\n",
       "}\n",
       "\n",
       "#sk-container-id-7 div.sk-parallel-item:only-child::after {\n",
       "  width: 0;\n",
       "}\n",
       "\n",
       "/* Serial-specific style estimator block */\n",
       "\n",
       "#sk-container-id-7 div.sk-serial {\n",
       "  display: flex;\n",
       "  flex-direction: column;\n",
       "  align-items: center;\n",
       "  background-color: var(--sklearn-color-background);\n",
       "  padding-right: 1em;\n",
       "  padding-left: 1em;\n",
       "}\n",
       "\n",
       "\n",
       "/* Toggleable style: style used for estimator/Pipeline/ColumnTransformer box that is\n",
       "clickable and can be expanded/collapsed.\n",
       "- Pipeline and ColumnTransformer use this feature and define the default style\n",
       "- Estimators will overwrite some part of the style using the `sk-estimator` class\n",
       "*/\n",
       "\n",
       "/* Pipeline and ColumnTransformer style (default) */\n",
       "\n",
       "#sk-container-id-7 div.sk-toggleable {\n",
       "  /* Default theme specific background. It is overwritten whether we have a\n",
       "  specific estimator or a Pipeline/ColumnTransformer */\n",
       "  background-color: var(--sklearn-color-background);\n",
       "}\n",
       "\n",
       "/* Toggleable label */\n",
       "#sk-container-id-7 label.sk-toggleable__label {\n",
       "  cursor: pointer;\n",
       "  display: block;\n",
       "  width: 100%;\n",
       "  margin-bottom: 0;\n",
       "  padding: 0.5em;\n",
       "  box-sizing: border-box;\n",
       "  text-align: center;\n",
       "}\n",
       "\n",
       "#sk-container-id-7 label.sk-toggleable__label-arrow:before {\n",
       "  /* Arrow on the left of the label */\n",
       "  content: \"▸\";\n",
       "  float: left;\n",
       "  margin-right: 0.25em;\n",
       "  color: var(--sklearn-color-icon);\n",
       "}\n",
       "\n",
       "#sk-container-id-7 label.sk-toggleable__label-arrow:hover:before {\n",
       "  color: var(--sklearn-color-text);\n",
       "}\n",
       "\n",
       "/* Toggleable content - dropdown */\n",
       "\n",
       "#sk-container-id-7 div.sk-toggleable__content {\n",
       "  max-height: 0;\n",
       "  max-width: 0;\n",
       "  overflow: hidden;\n",
       "  text-align: left;\n",
       "  /* unfitted */\n",
       "  background-color: var(--sklearn-color-unfitted-level-0);\n",
       "}\n",
       "\n",
       "#sk-container-id-7 div.sk-toggleable__content.fitted {\n",
       "  /* fitted */\n",
       "  background-color: var(--sklearn-color-fitted-level-0);\n",
       "}\n",
       "\n",
       "#sk-container-id-7 div.sk-toggleable__content pre {\n",
       "  margin: 0.2em;\n",
       "  border-radius: 0.25em;\n",
       "  color: var(--sklearn-color-text);\n",
       "  /* unfitted */\n",
       "  background-color: var(--sklearn-color-unfitted-level-0);\n",
       "}\n",
       "\n",
       "#sk-container-id-7 div.sk-toggleable__content.fitted pre {\n",
       "  /* unfitted */\n",
       "  background-color: var(--sklearn-color-fitted-level-0);\n",
       "}\n",
       "\n",
       "#sk-container-id-7 input.sk-toggleable__control:checked~div.sk-toggleable__content {\n",
       "  /* Expand drop-down */\n",
       "  max-height: 200px;\n",
       "  max-width: 100%;\n",
       "  overflow: auto;\n",
       "}\n",
       "\n",
       "#sk-container-id-7 input.sk-toggleable__control:checked~label.sk-toggleable__label-arrow:before {\n",
       "  content: \"▾\";\n",
       "}\n",
       "\n",
       "/* Pipeline/ColumnTransformer-specific style */\n",
       "\n",
       "#sk-container-id-7 div.sk-label input.sk-toggleable__control:checked~label.sk-toggleable__label {\n",
       "  color: var(--sklearn-color-text);\n",
       "  background-color: var(--sklearn-color-unfitted-level-2);\n",
       "}\n",
       "\n",
       "#sk-container-id-7 div.sk-label.fitted input.sk-toggleable__control:checked~label.sk-toggleable__label {\n",
       "  background-color: var(--sklearn-color-fitted-level-2);\n",
       "}\n",
       "\n",
       "/* Estimator-specific style */\n",
       "\n",
       "/* Colorize estimator box */\n",
       "#sk-container-id-7 div.sk-estimator input.sk-toggleable__control:checked~label.sk-toggleable__label {\n",
       "  /* unfitted */\n",
       "  background-color: var(--sklearn-color-unfitted-level-2);\n",
       "}\n",
       "\n",
       "#sk-container-id-7 div.sk-estimator.fitted input.sk-toggleable__control:checked~label.sk-toggleable__label {\n",
       "  /* fitted */\n",
       "  background-color: var(--sklearn-color-fitted-level-2);\n",
       "}\n",
       "\n",
       "#sk-container-id-7 div.sk-label label.sk-toggleable__label,\n",
       "#sk-container-id-7 div.sk-label label {\n",
       "  /* The background is the default theme color */\n",
       "  color: var(--sklearn-color-text-on-default-background);\n",
       "}\n",
       "\n",
       "/* On hover, darken the color of the background */\n",
       "#sk-container-id-7 div.sk-label:hover label.sk-toggleable__label {\n",
       "  color: var(--sklearn-color-text);\n",
       "  background-color: var(--sklearn-color-unfitted-level-2);\n",
       "}\n",
       "\n",
       "/* Label box, darken color on hover, fitted */\n",
       "#sk-container-id-7 div.sk-label.fitted:hover label.sk-toggleable__label.fitted {\n",
       "  color: var(--sklearn-color-text);\n",
       "  background-color: var(--sklearn-color-fitted-level-2);\n",
       "}\n",
       "\n",
       "/* Estimator label */\n",
       "\n",
       "#sk-container-id-7 div.sk-label label {\n",
       "  font-family: monospace;\n",
       "  font-weight: bold;\n",
       "  display: inline-block;\n",
       "  line-height: 1.2em;\n",
       "}\n",
       "\n",
       "#sk-container-id-7 div.sk-label-container {\n",
       "  text-align: center;\n",
       "}\n",
       "\n",
       "/* Estimator-specific */\n",
       "#sk-container-id-7 div.sk-estimator {\n",
       "  font-family: monospace;\n",
       "  border: 1px dotted var(--sklearn-color-border-box);\n",
       "  border-radius: 0.25em;\n",
       "  box-sizing: border-box;\n",
       "  margin-bottom: 0.5em;\n",
       "  /* unfitted */\n",
       "  background-color: var(--sklearn-color-unfitted-level-0);\n",
       "}\n",
       "\n",
       "#sk-container-id-7 div.sk-estimator.fitted {\n",
       "  /* fitted */\n",
       "  background-color: var(--sklearn-color-fitted-level-0);\n",
       "}\n",
       "\n",
       "/* on hover */\n",
       "#sk-container-id-7 div.sk-estimator:hover {\n",
       "  /* unfitted */\n",
       "  background-color: var(--sklearn-color-unfitted-level-2);\n",
       "}\n",
       "\n",
       "#sk-container-id-7 div.sk-estimator.fitted:hover {\n",
       "  /* fitted */\n",
       "  background-color: var(--sklearn-color-fitted-level-2);\n",
       "}\n",
       "\n",
       "/* Specification for estimator info (e.g. \"i\" and \"?\") */\n",
       "\n",
       "/* Common style for \"i\" and \"?\" */\n",
       "\n",
       ".sk-estimator-doc-link,\n",
       "a:link.sk-estimator-doc-link,\n",
       "a:visited.sk-estimator-doc-link {\n",
       "  float: right;\n",
       "  font-size: smaller;\n",
       "  line-height: 1em;\n",
       "  font-family: monospace;\n",
       "  background-color: var(--sklearn-color-background);\n",
       "  border-radius: 1em;\n",
       "  height: 1em;\n",
       "  width: 1em;\n",
       "  text-decoration: none !important;\n",
       "  margin-left: 1ex;\n",
       "  /* unfitted */\n",
       "  border: var(--sklearn-color-unfitted-level-1) 1pt solid;\n",
       "  color: var(--sklearn-color-unfitted-level-1);\n",
       "}\n",
       "\n",
       ".sk-estimator-doc-link.fitted,\n",
       "a:link.sk-estimator-doc-link.fitted,\n",
       "a:visited.sk-estimator-doc-link.fitted {\n",
       "  /* fitted */\n",
       "  border: var(--sklearn-color-fitted-level-1) 1pt solid;\n",
       "  color: var(--sklearn-color-fitted-level-1);\n",
       "}\n",
       "\n",
       "/* On hover */\n",
       "div.sk-estimator:hover .sk-estimator-doc-link:hover,\n",
       ".sk-estimator-doc-link:hover,\n",
       "div.sk-label-container:hover .sk-estimator-doc-link:hover,\n",
       ".sk-estimator-doc-link:hover {\n",
       "  /* unfitted */\n",
       "  background-color: var(--sklearn-color-unfitted-level-3);\n",
       "  color: var(--sklearn-color-background);\n",
       "  text-decoration: none;\n",
       "}\n",
       "\n",
       "div.sk-estimator.fitted:hover .sk-estimator-doc-link.fitted:hover,\n",
       ".sk-estimator-doc-link.fitted:hover,\n",
       "div.sk-label-container:hover .sk-estimator-doc-link.fitted:hover,\n",
       ".sk-estimator-doc-link.fitted:hover {\n",
       "  /* fitted */\n",
       "  background-color: var(--sklearn-color-fitted-level-3);\n",
       "  color: var(--sklearn-color-background);\n",
       "  text-decoration: none;\n",
       "}\n",
       "\n",
       "/* Span, style for the box shown on hovering the info icon */\n",
       ".sk-estimator-doc-link span {\n",
       "  display: none;\n",
       "  z-index: 9999;\n",
       "  position: relative;\n",
       "  font-weight: normal;\n",
       "  right: .2ex;\n",
       "  padding: .5ex;\n",
       "  margin: .5ex;\n",
       "  width: min-content;\n",
       "  min-width: 20ex;\n",
       "  max-width: 50ex;\n",
       "  color: var(--sklearn-color-text);\n",
       "  box-shadow: 2pt 2pt 4pt #999;\n",
       "  /* unfitted */\n",
       "  background: var(--sklearn-color-unfitted-level-0);\n",
       "  border: .5pt solid var(--sklearn-color-unfitted-level-3);\n",
       "}\n",
       "\n",
       ".sk-estimator-doc-link.fitted span {\n",
       "  /* fitted */\n",
       "  background: var(--sklearn-color-fitted-level-0);\n",
       "  border: var(--sklearn-color-fitted-level-3);\n",
       "}\n",
       "\n",
       ".sk-estimator-doc-link:hover span {\n",
       "  display: block;\n",
       "}\n",
       "\n",
       "/* \"?\"-specific style due to the `<a>` HTML tag */\n",
       "\n",
       "#sk-container-id-7 a.estimator_doc_link {\n",
       "  float: right;\n",
       "  font-size: 1rem;\n",
       "  line-height: 1em;\n",
       "  font-family: monospace;\n",
       "  background-color: var(--sklearn-color-background);\n",
       "  border-radius: 1rem;\n",
       "  height: 1rem;\n",
       "  width: 1rem;\n",
       "  text-decoration: none;\n",
       "  /* unfitted */\n",
       "  color: var(--sklearn-color-unfitted-level-1);\n",
       "  border: var(--sklearn-color-unfitted-level-1) 1pt solid;\n",
       "}\n",
       "\n",
       "#sk-container-id-7 a.estimator_doc_link.fitted {\n",
       "  /* fitted */\n",
       "  border: var(--sklearn-color-fitted-level-1) 1pt solid;\n",
       "  color: var(--sklearn-color-fitted-level-1);\n",
       "}\n",
       "\n",
       "/* On hover */\n",
       "#sk-container-id-7 a.estimator_doc_link:hover {\n",
       "  /* unfitted */\n",
       "  background-color: var(--sklearn-color-unfitted-level-3);\n",
       "  color: var(--sklearn-color-background);\n",
       "  text-decoration: none;\n",
       "}\n",
       "\n",
       "#sk-container-id-7 a.estimator_doc_link.fitted:hover {\n",
       "  /* fitted */\n",
       "  background-color: var(--sklearn-color-fitted-level-3);\n",
       "}\n",
       "</style><div id=\"sk-container-id-7\" class=\"sk-top-container\"><div class=\"sk-text-repr-fallback\"><pre>RandomForestRegressor(random_state=42)</pre><b>In a Jupyter environment, please rerun this cell to show the HTML representation or trust the notebook. <br />On GitHub, the HTML representation is unable to render, please try loading this page with nbviewer.org.</b></div><div class=\"sk-container\" hidden><div class=\"sk-item\"><div class=\"sk-estimator fitted sk-toggleable\"><input class=\"sk-toggleable__control sk-hidden--visually\" id=\"sk-estimator-id-7\" type=\"checkbox\" checked><label for=\"sk-estimator-id-7\" class=\"sk-toggleable__label fitted sk-toggleable__label-arrow fitted\">&nbsp;&nbsp;RandomForestRegressor<a class=\"sk-estimator-doc-link fitted\" rel=\"noreferrer\" target=\"_blank\" href=\"https://scikit-learn.org/1.4/modules/generated/sklearn.ensemble.RandomForestRegressor.html\">?<span>Documentation for RandomForestRegressor</span></a><span class=\"sk-estimator-doc-link fitted\">i<span>Fitted</span></span></label><div class=\"sk-toggleable__content fitted\"><pre>RandomForestRegressor(random_state=42)</pre></div> </div></div></div></div>"
      ]
     },
     "execution_count": 318,
     "metadata": {},
     "output_type": "execute_result"
    }
   ],
   "execution_count": 318
  },
  {
   "metadata": {
    "ExecuteTime": {
     "end_time": "2024-05-18T14:20:19.733181Z",
     "start_time": "2024-05-18T14:20:19.711078Z"
    }
   },
   "cell_type": "code",
   "source": [
    "y_pred = model.predict(X_test)\n",
    "mse = mean_squared_error(y_test, y_pred)\n",
    "print(\"Mean Squared Error:\", mse)"
   ],
   "id": "cc85152b7ffcd95",
   "outputs": [
    {
     "name": "stdout",
     "output_type": "stream",
     "text": [
      "Mean Squared Error: 81.18989272161859\n"
     ]
    }
   ],
   "execution_count": 309
  },
  {
   "metadata": {
    "ExecuteTime": {
     "end_time": "2024-05-21T16:25:15.376695Z",
     "start_time": "2024-05-21T16:25:14.586263Z"
    }
   },
   "cell_type": "code",
   "source": "",
   "id": "8d00d70e0573da09",
   "outputs": [
    {
     "ename": "NameError",
     "evalue": "name 'joblib' is not defined",
     "output_type": "error",
     "traceback": [
      "\u001B[1;31m---------------------------------------------------------------------------\u001B[0m",
      "\u001B[1;31mNameError\u001B[0m                                 Traceback (most recent call last)",
      "Cell \u001B[1;32mIn[1], line 1\u001B[0m\n\u001B[1;32m----> 1\u001B[0m \u001B[43mjoblib\u001B[49m\u001B[38;5;241m.\u001B[39mdump(model, \u001B[38;5;124m'\u001B[39m\u001B[38;5;124mmodel.pkl\u001B[39m\u001B[38;5;124m'\u001B[39m)\n",
      "\u001B[1;31mNameError\u001B[0m: name 'joblib' is not defined"
     ]
    }
   ],
   "execution_count": 1
  },
  {
   "metadata": {},
   "cell_type": "code",
   "outputs": [],
   "execution_count": null,
   "source": "",
   "id": "d19ddca40f987636"
  }
 ],
 "metadata": {
  "kernelspec": {
   "display_name": "Python 3",
   "language": "python",
   "name": "python3"
  },
  "language_info": {
   "codemirror_mode": {
    "name": "ipython",
    "version": 2
   },
   "file_extension": ".py",
   "mimetype": "text/x-python",
   "name": "python",
   "nbconvert_exporter": "python",
   "pygments_lexer": "ipython2",
   "version": "2.7.6"
  }
 },
 "nbformat": 4,
 "nbformat_minor": 5
}
